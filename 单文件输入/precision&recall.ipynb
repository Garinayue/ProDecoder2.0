{
 "cells": [
  {
   "cell_type": "code",
   "execution_count": 1,
   "metadata": {},
   "outputs": [
    {
     "name": "stdout",
     "output_type": "stream",
     "text": [
      "[['name', 'age', 'school name', 'id number', 'admission time', 'graduation time', 'ranking'], ['name', 'age', 'birth place', 'birthday', 'father name', 'mother name'], ['name', 'age', 'job', 'company name', 'company location', 'income']]\n"
     ]
    }
   ],
   "source": [
    "str1 = \"name####age####school name####id number####admission time####graduation time####ranking\"\n",
    "str2 = \"name####age####birth place####birthday####father name####mother name\"\n",
    "str3 = \"name####age####job####company name####company location####income\"\n",
    "\n",
    "format1 = str1.split('####')\n",
    "format2 = str2.split('####')\n",
    "format3 = str3.split('####')\n",
    "\n",
    "format_all = []\n",
    "format_all.append(format1)\n",
    "format_all.append(format2)\n",
    "format_all.append(format3)\n",
    "\n",
    "print(format_all)"
   ]
  },
  {
   "cell_type": "code",
   "execution_count": 2,
   "metadata": {},
   "outputs": [],
   "source": [
    "# 定义函数，读取文件，获得所有的报文数据\n",
    "# 参数：file_name 文件名称\n",
    "# 返回值：所有报文构成的列表，列表每个元素代表一条报文\n",
    "\n",
    "def read_input(file_name):\n",
    "    \n",
    "    # 打开文件，按行读取\n",
    "    file = open(file_name, 'r', encoding='utf-8')\n",
    "    lines = file.readlines()  # 按行读取文件内容\n",
    "    file.close()\n",
    "    \n",
    "    # 去除换行符，构造返回结果列表\n",
    "    packets = []  # 存放所有报文\n",
    "    for line in lines:  # 遍历，去除换行符\n",
    "        packets.append(line.strip('\\n'))\n",
    "    \n",
    "    return packets"
   ]
  },
  {
   "cell_type": "code",
   "execution_count": 6,
   "metadata": {},
   "outputs": [],
   "source": [
    "# 真测试，即测试文件和考察的格式串为同一类别，可以计算TP和FP\n",
    "# TP: 认为是这个类别，同时测试通过，即真的属于这个类别\n",
    "# FP：认为是这个类别，但测试没有通过，即实际不属于这个类别\n",
    "\n",
    "def true_test(file_name, flist):\n",
    "    \n",
    "    TP = 0\n",
    "    FP = 0\n",
    "    \n",
    "    packets = read_input(file_name)\n",
    "    for packet in packets:\n",
    "        for f in flist:\n",
    "            if packet.find(f) == -1:\n",
    "                FP += 1\n",
    "                break\n",
    "            if f == flist[-1]:  # 所有格式串都找到\n",
    "                TP += 1\n",
    "    return TP, FP"
   ]
  },
  {
   "cell_type": "code",
   "execution_count": 7,
   "metadata": {},
   "outputs": [],
   "source": [
    "# 假测试，即测试文件和考察的格式串为不同别，可以计算TN和FN\n",
    "# TN：认为不是这个类别，同时测试没有通过，即真的不属于这个类别\n",
    "# FN：认为不是这个类别，但是测试通过了，即实际属于这个类别\n",
    "\n",
    "def false_test(file_name, flist):\n",
    "    \n",
    "    TN = 0\n",
    "    FN = 0\n",
    "    \n",
    "    packets = read_input(file_name)\n",
    "    for packet in packets:\n",
    "        for f in flist:\n",
    "            if packet.find(f) == -1:\n",
    "                TN += 1\n",
    "                break\n",
    "            if f == flist[-1]:  # 所有格式串都找到\n",
    "                FN += 1\n",
    "    return TN, FN"
   ]
  },
  {
   "cell_type": "code",
   "execution_count": 8,
   "metadata": {},
   "outputs": [],
   "source": [
    "true_positive = 0\n",
    "true_negative = 0\n",
    "false_positive = 0\n",
    "false_negative = 0\n",
    "\n",
    "class_num = 3\n",
    "\n",
    "# 真测试\n",
    "for i in range(1, class_num+1):\n",
    "    file_name = 'test' + str(i) + '.txt'\n",
    "    tp, fp = true_test(file_name, format_all[i-1])\n",
    "    true_positive += tp\n",
    "    false_positive += fp\n",
    "\n",
    "for i in range(1, class_num+1):\n",
    "    file_name = 'test' + str(i) + '.txt'\n",
    "    tn = 0\n",
    "    fn = 0\n",
    "    for j in range(1, class_num+1):\n",
    "        if i != j:\n",
    "            a, b = false_test(file_name, format_all[j-1])\n",
    "            tn += a\n",
    "            fn += b\n",
    "    true_negative += tn\n",
    "    false_negative += fn"
   ]
  },
  {
   "cell_type": "code",
   "execution_count": 9,
   "metadata": {},
   "outputs": [
    {
     "name": "stdout",
     "output_type": "stream",
     "text": [
      "300 0\n",
      "600 0\n"
     ]
    }
   ],
   "source": [
    "print(true_positive, false_positive)\n",
    "print(true_negative, false_negative)"
   ]
  },
  {
   "cell_type": "code",
   "execution_count": 10,
   "metadata": {},
   "outputs": [
    {
     "name": "stdout",
     "output_type": "stream",
     "text": [
      "精确率为： 1.0\n",
      "召回率为： 1.0\n"
     ]
    }
   ],
   "source": [
    "print(\"精确率为：\", true_positive / (true_positive+false_positive))\n",
    "print(\"召回率为：\", true_positive / (true_positive+false_negative))"
   ]
  },
  {
   "cell_type": "code",
   "execution_count": null,
   "metadata": {},
   "outputs": [],
   "source": []
  }
 ],
 "metadata": {
  "kernelspec": {
   "display_name": "Python 3",
   "language": "python",
   "name": "python3"
  },
  "language_info": {
   "codemirror_mode": {
    "name": "ipython",
    "version": 3
   },
   "file_extension": ".py",
   "mimetype": "text/x-python",
   "name": "python",
   "nbconvert_exporter": "python",
   "pygments_lexer": "ipython3",
   "version": "3.6.5"
  }
 },
 "nbformat": 4,
 "nbformat_minor": 2
}
