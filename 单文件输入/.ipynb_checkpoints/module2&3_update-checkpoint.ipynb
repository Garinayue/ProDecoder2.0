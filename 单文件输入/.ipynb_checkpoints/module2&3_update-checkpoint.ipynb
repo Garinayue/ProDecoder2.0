{
 "cells": [
  {
   "cell_type": "code",
   "execution_count": 120,
   "metadata": {},
   "outputs": [],
   "source": [
    "import numpy as np\n",
    "import lda\n",
    "import matplotlib.pyplot as plt\n",
    "import scipy.cluster.hierarchy as sch\n",
    "import shutil  # 用于复制文件\n",
    "import time"
   ]
  },
  {
   "cell_type": "code",
   "execution_count": 75,
   "metadata": {},
   "outputs": [],
   "source": [
    "# 定义函数，读取文件，获得所有的报文数据\n",
    "# 参数：file_name 文件名称\n",
    "# 返回值：所有报文构成的列表，列表每个元素代表一条报文\n",
    "def read_input(file_name):\n",
    "    # 打开文件，按行读取\n",
    "    file = open(file_name, 'r', encoding='utf-8')\n",
    "    lines = file.readlines()  # 按行读取文件内容\n",
    "    file.close()\n",
    "    # 去除换行符，构造返回结果列表\n",
    "    packets = []  # 存放所有报文\n",
    "    for line in lines:  # 遍历，去除换行符\n",
    "        packets.append(line.strip('\\n'))\n",
    "    return packets"
   ]
  },
  {
   "cell_type": "code",
   "execution_count": 76,
   "metadata": {},
   "outputs": [],
   "source": [
    "# 定义函数，对高频n-grams列表预处理，为每个 n-gram 赋予编号，报文使用 n-gram 编号的列表表示，组织训练数据矩阵\n",
    "# 参数：各个报文的高频n-grams列表，大列表套小列表形式\n",
    "# 返回值：四个\n",
    "# 1. new_packets  所有报文的编号列表，每个报文对应一个存放n-gram编号的小列表\n",
    "# 2. ngram2id  字典，键为 n-gram，值为 id\n",
    "# 3. id2ngram  字典，键为 id，值为 n-gram\n",
    "# 4. X  组织好的训练数据，每一行代表一个报文，每一列为一个n-gram，(i, j)代表第i个文档中第j个n-gram出现的次数\n",
    "\n",
    "def preprocess(packets):\n",
    "    # 初始化\n",
    "    ngram2id = {}  # 字典，键为 n-gram，值为 id\n",
    "    id2ngram = {}  # 字典，键为 id，值为 n-gram\n",
    "    new_packets = []  # 存放所有报文的编号列表，每个报文对应一个存放n-gram编号的小列表\n",
    "    currentPacket = []  # 当前报文的编号列表\n",
    "    currentId = 0  # n-gram当前编号到哪个数字了\n",
    "    # 对n-gram和报文进行编号\n",
    "    for message in packets:  # 遍历每个报文\n",
    "        for ngram in message:   # 遍历报文的每个n-gram\n",
    "            if ngram in ngram2id:  # 如果该n-gram已经编号过\n",
    "                currentPacket.append(ngram2id[ngram])  # 直接记录该报文的n-gram编号即可\n",
    "            else:  # 如果该n-gram未编号过\n",
    "                ngram2id[ngram] = currentId  # 先分别在两个列表中对该n-gram进行编号\n",
    "                id2ngram[currentId] = ngram\n",
    "                currentPacket.append(currentId)  # 再记录报文的n-gram编号\n",
    "                currentId += 1\n",
    "        new_packets.append(currentPacket)  # 存储该报文的编号列表\n",
    "        currentPacket = []\n",
    "    # 组织训练数据\n",
    "    row = len(packets)\n",
    "    col = len(ngram2id)\n",
    "    X = np.zeros([row, col], dtype=int)  # 要指定int，不然model.fit(X)会报错说无法将float64转化为int64\n",
    "    for i in range(row):  # 遍历报文，填充矩阵值\n",
    "        for j in new_packets[i]:\n",
    "            X[i, j] += 1\n",
    "    return new_packets, ngram2id, id2ngram, X"
   ]
  },
  {
   "cell_type": "code",
   "execution_count": 81,
   "metadata": {},
   "outputs": [],
   "source": [
    "# 定义函数，输入相应的参数，并得到模型\n",
    "# 参数\n",
    "# 返回值：训练好的模型\n",
    "\n",
    "def get_model(packet_name, file_suffix, n_topics, n_iter, alpha, eta):\n",
    "    \n",
    "    packets = read_input(packet_name, file_suffix)\n",
    "    num = len(packets)\n",
    "    for i in range(num):\n",
    "        packets[i] = packets[i].split(b\"####\")\n",
    "    \n",
    "    # 预处理，得到编号以及训练数据\n",
    "    new_packets, ngram2id, id2ngram, X = preprocess(packets)\n",
    "    # 训练模型\n",
    "    model = lda.LDA(n_topics=n_topics, n_iter=n_iter, alpha=alpha, eta=eta, random_state=1)\n",
    "    model.fit(X)\n",
    "    return model\n"
   ]
  },
  {
   "cell_type": "code",
   "execution_count": 121,
   "metadata": {},
   "outputs": [],
   "source": [
    "# 定义函数，训练lda模型并使用其结果对原始文件聚类，结果存到不同的文件中\n",
    "# 参数：除了模型 参数，还加了一个n_cluster，簇的最大个数\n",
    "\n",
    "def get_clusters(packet_name, file_suffix, model, n_cluster):\n",
    "    \n",
    "    message_topic = model.doc_topic_\n",
    "    \n",
    "    # 层次聚类，且是自底向上的凝聚聚类\n",
    "    X = message_topic  # 输入数据，lda模型得到的矩阵\n",
    "    disMat = sch.distance.pdist(X, 'euclidean')  # 生成点与点之间的距离矩阵,使用欧氏距离\n",
    "    Z = sch.linkage(disMat, method='average')  # 层次聚类编码为一个linkage矩阵\n",
    "    \n",
    "    # 画图\n",
    "    P = sch.dendrogram(Z)\n",
    "    plt.title('Dendrogram')\n",
    "    plt.xlabel('Messages')\n",
    "    plt.ylabel('Euclidean distances')\n",
    "    plt.show()\n",
    "    cluster = sch.fcluster(Z, t=n_cluster, criterion='maxclust')  # 指定簇的个数最大为4\n",
    "    print(\"\\n聚类结果为：\\n\", cluster)\n",
    "    return cluster"
   ]
  },
  {
   "cell_type": "code",
   "execution_count": 127,
   "metadata": {},
   "outputs": [],
   "source": [
    "# 定义函数：根据聚类结果将不同报文存储到不同的文件夹中\n",
    "# 参数：\n",
    "# packet_name：原始文件夹名\n",
    "# file_suffix：txt文件名的协议名后缀\n",
    "# n_cluster为簇的个数\n",
    "# cluster每个元素代表该报文的簇别\n",
    "\n",
    "def save_cluster(packet_name, file_suffix, n_cluster, cluster):\n",
    "    \n",
    "    for i in range(n_cluster):  # 对于每个簇\n",
    "        num = 0  # 初始化计数\n",
    "        cluster_name = 'cluster' + str(i+1)  # 创建该簇的文件夹\n",
    "        os.mkdir(cluster_name)\n",
    "        \n",
    "        for j in range(len(cluster)):  # 遍历每个报文的簇别数\n",
    "            if cluster[j] == (i+1):\n",
    "                num += 1\n",
    "                old_path = packet_name + '\\\\' + str(j+1) + '_' + file_suffix + '.txt'  # 新旧地址\n",
    "                new_path = cluster_name + '\\\\' + str(num) + '_' + file_suffix + '.txt'\n",
    "                f = open(new_path, 'wb')  # 创建新的文件夹\n",
    "                f.close()\n",
    "                shutil.copyfile(old_path, new_path)\n",
    "        print(\"第%d个簇共有%d条报文数据\" % (i+1, num))\n",
    "    print(\"文件保存成功\")"
   ]
  },
  {
   "cell_type": "code",
   "execution_count": 133,
   "metadata": {},
   "outputs": [
    {
     "name": "stderr",
     "output_type": "stream",
     "text": [
      "INFO:lda:n_documents: 183\n",
      "INFO:lda:vocab_size: 375\n",
      "INFO:lda:n_words: 28005\n",
      "INFO:lda:n_topics: 2\n",
      "INFO:lda:n_iter: 200\n",
      "INFO:lda:<0> log likelihood: -185612\n",
      "INFO:lda:<10> log likelihood: -158421\n",
      "INFO:lda:<20> log likelihood: -156156\n",
      "INFO:lda:<30> log likelihood: -155284\n",
      "INFO:lda:<40> log likelihood: -154728\n",
      "INFO:lda:<50> log likelihood: -153764\n",
      "INFO:lda:<60> log likelihood: -153394\n",
      "INFO:lda:<70> log likelihood: -153322\n",
      "INFO:lda:<80> log likelihood: -153296\n",
      "INFO:lda:<90> log likelihood: -153394\n",
      "INFO:lda:<100> log likelihood: -153327\n",
      "INFO:lda:<110> log likelihood: -153365\n",
      "INFO:lda:<120> log likelihood: -153344\n",
      "INFO:lda:<130> log likelihood: -153224\n",
      "INFO:lda:<140> log likelihood: -153120\n",
      "INFO:lda:<150> log likelihood: -153135\n",
      "INFO:lda:<160> log likelihood: -153167\n",
      "INFO:lda:<170> log likelihood: -153116\n",
      "INFO:lda:<180> log likelihood: -153152\n",
      "INFO:lda:<190> log likelihood: -153091\n",
      "INFO:lda:<199> log likelihood: -153157\n"
     ]
    },
    {
     "name": "stdout",
     "output_type": "stream",
     "text": [
      "lda模型训练结束，开始进行聚类\n"
     ]
    },
    {
     "data": {
      "image/png": "[encoded data removed]",
      "text/plain": [
       "<Figure size 432x288 with 1 Axes>"
      ]
     },
     "metadata": {},
     "output_type": "display_data"
    },
    {
     "name": "stdout",
     "output_type": "stream",
     "text": [
      "\n",
      "聚类结果为：\n",
      " [2 1 2 1 2 1 2 2 1 2 1 2 1 2 1 2 1 2 1 2 1 2 1 2 2 1 2 2 1 2 1 2 1 2 1 2 1\n",
      " 2 1 2 1 2 2 1 2 1 2 1 2 2 1 2 1 2 1 2 1 2 1 1 1 2 1 1 1 2 1 2 1 2 1 2 1 2\n",
      " 1 2 1 2 2 1 2 1 2 1 2 1 2 1 2 2 2 1 2 1 2 1 2 1 2 2 1 2 1 2 1 2 1 2 1 2 2\n",
      " 1 2 1 2 1 2 2 2 1 2 1 2 2 1 2 1 2 1 2 1 2 1 2 1 2 1 2 1 2 1 2 1 2 1 2 1 2\n",
      " 1 2 1 2 2 2 1 2 1 2 1 2 1 2 1 2 1 2 1 2 1 2 1 2 1 2 1 2 2 1 2 1 2 2 1]\n",
      "\n",
      "开始保存各个簇文件\n",
      "第1个簇共有85条报文数据\n",
      "第2个簇共有98条报文数据\n",
      "文件保存成功\n"
     ]
    }
   ],
   "source": [
    "model = get_model('http_freq', 'http', 2, 200, 0.5, 0.005)\n",
    "print(\"lda模型训练结束，开始进行聚类\")\n",
    "cluster = get_clusters('http_freq', 'http', model, 2)\n",
    "print(\"\\n开始保存各个簇文件\")\n",
    "save_cluster('http_input', 'http', 2, cluster)"
   ]
  },
  {
   "cell_type": "code",
   "execution_count": null,
   "metadata": {},
   "outputs": [],
   "source": []
  }
 ],
 "metadata": {
  "kernelspec": {
   "display_name": "Python 3",
   "language": "python",
   "name": "python3"
  },
  "language_info": {
   "codemirror_mode": {
    "name": "ipython",
    "version": 3
   },
   "file_extension": ".py",
   "mimetype": "text/x-python",
   "name": "python",
   "nbconvert_exporter": "python",
   "pygments_lexer": "ipython3",
   "version": "3.6.5"
  }
 },
 "nbformat": 4,
 "nbformat_minor": 2
}
