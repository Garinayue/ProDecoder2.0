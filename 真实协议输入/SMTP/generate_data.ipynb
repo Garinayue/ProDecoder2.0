{
 "cells": [
  {
   "cell_type": "code",
   "execution_count": 2,
   "metadata": {},
   "outputs": [],
   "source": [
    "import random\n",
    "import string\n",
    "import os"
   ]
  },
  {
   "cell_type": "code",
   "execution_count": 3,
   "metadata": {},
   "outputs": [
    {
     "name": "stdout",
     "output_type": "stream",
     "text": [
      "1\n"
     ]
    }
   ],
   "source": [
    "# 定义函数：生成指定范围内的随机整数\n",
    "\n",
    "def get_int(low, high):\n",
    "    n = random.randint(low, high)\n",
    "    return n\n",
    "\n",
    "print(get_int(1,3))"
   ]
  },
  {
   "cell_type": "code",
   "execution_count": 4,
   "metadata": {},
   "outputs": [
    {
     "name": "stdout",
     "output_type": "stream",
     "text": [
      "Q5LRWGiF2Zwnr6e9Htg\n"
     ]
    }
   ],
   "source": [
    "# 定义函数：生成指定长度范围的随机字符串\n",
    "\n",
    "def get_string(low, high):\n",
    "    n = get_int(low, high)\n",
    "    s = ''.join(random.sample(string.ascii_letters + string.digits, n))\n",
    "    return s\n",
    "\n",
    "print(get_string(10, 20))"
   ]
  },
  {
   "cell_type": "code",
   "execution_count": 5,
   "metadata": {},
   "outputs": [
    {
     "name": "stdout",
     "output_type": "stream",
     "text": [
      "FNCRAVMXH9EPWD\n"
     ]
    }
   ],
   "source": [
    "# 定义函数：生成指定长度范围的随机字符串\n",
    "\n",
    "def get_upper_string(low, high):\n",
    "    n = get_int(low, high)\n",
    "    s = ''.join(random.sample(string.ascii_uppercase + string.digits, n))\n",
    "    return s\n",
    "\n",
    "print(get_upper_string(10, 20))"
   ]
  },
  {
   "cell_type": "code",
   "execution_count": 7,
   "metadata": {},
   "outputs": [
    {
     "name": "stdout",
     "output_type": "stream",
     "text": [
      "188662192312\n"
     ]
    }
   ],
   "source": [
    "# 定义函数：生成指定长度范围的随机数字串\n",
    "\n",
    "def get_int_string(low, high):\n",
    "    s = \"\"\n",
    "    n = get_int(low, high)\n",
    "    for i in range(n):\n",
    "        s += str(get_int(0, 9)) \n",
    "    return s\n",
    "\n",
    "print(get_int_string(10, 20))\n"
   ]
  },
  {
   "cell_type": "code",
   "execution_count": 8,
   "metadata": {},
   "outputs": [
    {
     "name": "stdout",
     "output_type": "stream",
     "text": [
      "220 toney-pkl-server ESMTP Postfix (Ubuntu)\n",
      "EHLO toney-pkl-server\n",
      "250-toney-pkl-server\n",
      "250-PIPELINING\n",
      "250-SIZE 10240000\n",
      "250-VRFY\n",
      "250-ETRN\n",
      "250-STARTTLS\n",
      "250-ENHANCEDSTATUSCODES\n",
      "250-8BITMIME\n",
      "250 DSN\n",
      "MAIL FROM:<KMwtX9Vm5rQv02NuTR@localhost>\n",
      "250 2.1.0 Ok\n",
      "RCPT TO:<A5PSz9l@localhost>\n",
      "250 2.1.5 Ok\n",
      "DATA\n",
      "354 End data with <CR><LF>.<CR><LF>\n",
      "From: KMwtX9Vm5rQv02NuTR@localhost\n",
      "To: A5PSz9l@localhost\n",
      "Message-ID: <0443142069.70337.1515575117321.JavaMail.toney@toney-pkl-server>\n",
      "Subject: WZsX54\n",
      "MIME-Version: 1.0\n",
      "Content-Type: multipart/mixed; \n",
      "\tboundary=\"----=_Part_70336_8442888073.1515575117321\"\n",
      "\n",
      "------=_Part_70336_8442888073.1515575117321\n",
      "Content-Type: text/plain; charset=us-ascii\n",
      "Content-Transfer-Encoding: 7bit\n",
      "\n",
      "HTbEOjm2vsq1o0CuhWNJKGzMRAVYDfc8l63pI4wrdLPZgXk5tUx7Fyie9BnaIf87a6RBzliFO3SMVTjCqhD4eWbnAs2cE9pYkPJutU1ovN5gHQmwZKxyG0Lr2g0uLY8e6lDTiKhxv4HcfsAdS9WwOPb7JBNkGQqmIrM1E\n",
      "------=_Part_70336_8442888073.1515575117321--\n",
      ".\n",
      "250 2.0.0 Ok: queued as BUTAR19CB8RW\n",
      "QUIT\n",
      "221 2.0.0 Bye\n",
      "\n"
     ]
    }
   ],
   "source": [
    "# 第一种smtp报文\n",
    "\n",
    "def F1():\n",
    "    \n",
    "    mail_from = get_string(5, 20)\n",
    "    rcpt_to = get_string(5, 20)\n",
    "    num5 = get_int_string(5, 5)\n",
    "    num6 = get_int_string(6, 6)\n",
    "    \n",
    "    line1 = '''220 toney-pkl-server ESMTP Postfix (Ubuntu)\n",
    "EHLO toney-pkl-server\n",
    "250-toney-pkl-server\n",
    "250-PIPELINING\n",
    "250-SIZE 10240000\n",
    "250-VRFY\n",
    "250-ETRN\n",
    "250-STARTTLS\n",
    "250-ENHANCEDSTATUSCODES\n",
    "250-8BITMIME\n",
    "250 DSN\n",
    "'''\n",
    "    \n",
    "    line2 = 'MAIL FROM:<' + mail_from + '@localhost>' + '\\n'\n",
    "    line3 = '250 2.1.0 Ok' + '\\n'\n",
    "    line4 = 'RCPT TO:<' + rcpt_to + '@localhost>' + '\\n'\n",
    "    line5 = '''250 2.1.5 Ok\n",
    "DATA\n",
    "354 End data with <CR><LF>.<CR><LF>\n",
    "'''\n",
    "    \n",
    "    line6 = 'From: ' + mail_from + '@localhost' + '\\n'\n",
    "    line7 = 'To: ' + rcpt_to + '@localhost' + '\\n'\n",
    "    line8 = 'Message-ID: <' + get_int_string(9, 10) + '.' + num5 + '.1515575' + num6 + '.JavaMail.toney@toney-pkl-server>' + '\\n'\n",
    "    line9 = 'Subject: ' + get_string(1, 10) + '\\n'\n",
    "    line10 = '''MIME-Version: 1.0\n",
    "Content-Type: multipart/mixed; \n",
    "'''\n",
    "    \n",
    "    line11 = '\\tboundary=\"----=_Part_' + str(int(num5)-1) + '_' + get_int_string(9, 10) + '.1515575' + num6 + '\"' + '\\n\\n'\n",
    "    line12 = '--' + line11[11:-3] + '\\n'\n",
    "    line13 = '''Content-Type: text/plain; charset=us-ascii\n",
    "Content-Transfer-Encoding: 7bit\n",
    "\n",
    "'''\n",
    "    line14 = get_string(40, 60) + get_string(40, 60) + get_string(40, 60) + '\\n'\n",
    "    line15 = line12[:-1] + '--' +'\\n'\n",
    "    line16 = '.' + '\\n'\n",
    "    line17 = '250 2.0.0 Ok: queued as ' + get_upper_string(5, 5) + '19C'+ get_upper_string(4, 4) + '\\n'\n",
    "    line18 = '''QUIT\n",
    "221 2.0.0 Bye\n",
    "'''\n",
    "\n",
    "    message = line1 + line2 + line3 + line4 + line5 + line6 + line7 + line8 + line9 + line10 + line11 + line12 + line13 + line14 + line15 + line16 + line17 + line18\n",
    "    return message\n",
    "print(F1())"
   ]
  },
  {
   "cell_type": "code",
   "execution_count": 11,
   "metadata": {},
   "outputs": [
    {
     "name": "stdout",
     "output_type": "stream",
     "text": [
      "220 toney-pkl-server ESMTP Postfix (Ubuntu)\n",
      "EHLO toney-pkl-server\n",
      "250-toney-pkl-server\n",
      "250-PIPELINING\n",
      "250-SIZE 10240000\n",
      "250-VRFY\n",
      "250-ETRN\n",
      "250-STARTTLS\n",
      "250-ENHANCEDSTATUSCODES\n",
      "250-8BITMIME\n",
      "250 DSN\n",
      "MAIL FROM:<gi1wC7WVxZFIaJ36ejR@localhost>\n",
      "250 2.1.0 Ok\n",
      "RCPT TO:<7mRnwPcOautis2@localhost>\n",
      "250 2.1.5 Ok\n",
      "RCPT TO:<68YoHKWJ7nUzEOibe@localhost>\n",
      "250 2.1.5 Ok\n",
      "RCPT TO:<MiA9YOKZGn8vcFoBE@localhost>\n",
      "250 2.1.5 Ok\n",
      "DATA\n",
      "354 End data with <CR><LF>.<CR><LF>\n",
      "From: gi1wC7WVxZFIaJ36ejR@localhost\n",
      "To: 7mRnwPcOautis2@localhost\n",
      "Cc: 68YoHKWJ7nUzEOibe@localhost\n",
      "Message-ID: <0618682875.46294.1515575283808.JavaMail.toney@toney-pkl-server>\n",
      "Subject: WIHQqNVo\n",
      "MIME-Version: 1.0\n",
      "Content-Type: multipart/mixed; \n",
      "\tboundary=\"----=_Part_46293_4599605974.1515575283808\"\n",
      "\n",
      "------=_Part_46293_4599605974.1515575283808\n",
      "Content-Type: text/plain; charset=us-ascii\n",
      "Content-Transfer-Encoding: 7bit\n",
      "\n",
      "2JvzgYcIOHN6x8yAbShPWX5iwCDTQlna0r7LGZstmqMkBVU9ep1ufKd4RjBhf84O0srotc3Yp5wIzSFDyviJkCaWbU9nGVu2AeiIUN6lE9BwtpxHebLuKO5qgoJfyzZPTkhcs1dFmM7Q30rCDX4YRa\n",
      "------=_Part_46293_4599605974.1515575283808--\n",
      ".\n",
      "250 2.0.0 Ok: queued as 1Z4NE19CYAMQ\n",
      "QUIT\n",
      "221 2.0.0 Bye\n",
      "\n"
     ]
    }
   ],
   "source": [
    "# 第二种smtp报文\n",
    "\n",
    "def F2():\n",
    "    \n",
    "    mail_from = get_string(5, 20)\n",
    "    rcpt_to1 = get_string(5, 20)\n",
    "    rcpt_to2 = get_string(5, 20)\n",
    "    rcpt_to3 = get_string(5, 20)\n",
    "    rcpt_to4 = get_string(5, 20)\n",
    "    num5 = get_int_string(5, 5)\n",
    "    num6 = get_int_string(6, 6)\n",
    "    \n",
    "    line1 = '''220 toney-pkl-server ESMTP Postfix (Ubuntu)\n",
    "EHLO toney-pkl-server\n",
    "250-toney-pkl-server\n",
    "250-PIPELINING\n",
    "250-SIZE 10240000\n",
    "250-VRFY\n",
    "250-ETRN\n",
    "250-STARTTLS\n",
    "250-ENHANCEDSTATUSCODES\n",
    "250-8BITMIME\n",
    "250 DSN\n",
    "'''\n",
    "    \n",
    "    line2 = 'MAIL FROM:<' + mail_from + '@localhost>' + '\\n'\n",
    "    line3 = '250 2.1.0 Ok' + '\\n'\n",
    "    line4 = 'RCPT TO:<' + rcpt_to1 + '@localhost>' + '\\n'\n",
    "    line5 = '250 2.1.5 Ok' + '\\n'\n",
    "    line6 = 'RCPT TO:<' + rcpt_to2 + '@localhost>' + '\\n'\n",
    "    line8 = 'RCPT TO:<' + rcpt_to4 + '@localhost>' + '\\n'\n",
    "    line9 = '''250 2.1.5 Ok\n",
    "DATA\n",
    "354 End data with <CR><LF>.<CR><LF>\n",
    "'''\n",
    "    \n",
    "    line10 = 'From: ' + mail_from + '@localhost' + '\\n'\n",
    "    line11 = 'To: ' + rcpt_to1 + '@localhost' + '\\n'\n",
    "    line12 = 'Cc: ' + rcpt_to2 + '@localhost' + '\\n'\n",
    "    \n",
    "    line13 = 'Message-ID: <' + get_int_string(9, 10) + '.' + num5 + '.1515575' + num6 + '.JavaMail.toney@toney-pkl-server>' + '\\n'\n",
    "    line14 = 'Subject: ' + get_string(1, 10) + '\\n'\n",
    "    line15 = '''MIME-Version: 1.0\n",
    "Content-Type: multipart/mixed; \n",
    "'''\n",
    "    \n",
    "    line16 = '\\tboundary=\"----=_Part_' + str(int(num5)-1) + '_' + get_int_string(9, 10) + '.1515575' + num6 + '\"' + '\\n\\n'\n",
    "    line17 = '--' + line16[11:-3] + '\\n'\n",
    "    line18 = '''Content-Type: text/plain; charset=us-ascii\n",
    "Content-Transfer-Encoding: 7bit\n",
    "\n",
    "'''\n",
    "    line19 = get_string(40, 60) + get_string(40, 60) + get_string(40, 60) + '\\n'\n",
    "    line20 = line17[:-1] + '--' +'\\n'\n",
    "    line21 = '.' + '\\n'\n",
    "    line22 = '250 2.0.0 Ok: queued as ' + get_upper_string(5, 5) + '19C'+ get_upper_string(4, 4) + '\\n'\n",
    "    line23 = '''QUIT\n",
    "221 2.0.0 Bye\n",
    "'''\n",
    "\n",
    "    message = line1 + line2 + line3 + line4 + line5 + line6 + line5 + line8 + line9 + line10 \\\n",
    "    + line11 + line12 + line13 + line14 + line15 + line16 + line17 + line18 + line19+ line20 + line21 + line22 + line23\n",
    "    return message\n",
    "print(F2())"
   ]
  },
  {
   "cell_type": "markdown",
   "metadata": {},
   "source": [
    "## 生成2个测试文件"
   ]
  },
  {
   "cell_type": "code",
   "execution_count": 12,
   "metadata": {},
   "outputs": [],
   "source": [
    "# 先生成2个测试文件夹\n",
    "for i in range(2):\n",
    "    cluster_name = 'test' + str(i+1)\n",
    "    os.mkdir(cluster_name)\n",
    "\n",
    "for i in range(100):\n",
    "    write_file_name = 'test1\\\\' + str(i+1) + '.txt'\n",
    "    message = F1()\n",
    "    f = open(write_file_name, 'w')\n",
    "    f.write(message)\n",
    "    f.close()\n",
    "\n",
    "for i in range(100):\n",
    "    write_file_name = 'test2\\\\' + str(i+1) + '.txt'\n",
    "    message = F2()\n",
    "    f = open(write_file_name, 'w')\n",
    "    f.write(message)\n",
    "    f.close()"
   ]
  },
  {
   "cell_type": "code",
   "execution_count": null,
   "metadata": {},
   "outputs": [],
   "source": []
  }
 ],
 "metadata": {
  "kernelspec": {
   "display_name": "Python 3",
   "language": "python",
   "name": "python3"
  },
  "language_info": {
   "codemirror_mode": {
    "name": "ipython",
    "version": 3
   },
   "file_extension": ".py",
   "mimetype": "text/x-python",
   "name": "python",
   "nbconvert_exporter": "python",
   "pygments_lexer": "ipython3",
   "version": "3.6.5"
  }
 },
 "nbformat": 4,
 "nbformat_minor": 2
}
