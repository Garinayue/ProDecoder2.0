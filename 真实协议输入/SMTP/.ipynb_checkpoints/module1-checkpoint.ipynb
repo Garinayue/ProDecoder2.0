{
 "cells": [
  {
   "cell_type": "markdown",
   "metadata": {},
   "source": [
    "## 说明\n",
    "之前所有输入都在一个txt文件中，一行代表一个报文，忽略了报文中的回车换行符，并且默认了报文中不含有符号'-'  \n",
    "本处做修正：  \n",
    "1. 每个txt文件作为一个报文\n",
    "2. 不能采用-作为分隔符，选用####作为连接各个n-gram的分隔符\n",
    "3. 由于smtp报文中有很多重复的n-grams，因此先统计unique_ngrams，再统计频率，可以大大缩短运行时间"
   ]
  },
  {
   "cell_type": "code",
   "execution_count": 1,
   "metadata": {},
   "outputs": [],
   "source": [
    "import os\n",
    "import time"
   ]
  },
  {
   "cell_type": "code",
   "execution_count": 19,
   "metadata": {},
   "outputs": [],
   "source": [
    "# 定义函数，读取所有的输入txt文件，获得所有的报文数据\n",
    "# 参数：文件夹名称，txt后缀\n",
    "# 返回值：所有报文构成的列表，列表每个元素代表一条报文\n",
    "def read_input(packet_name):\n",
    "    \n",
    "    packets = []  # 存放所有报文，每个元素代表一个报文\n",
    "    file_list = os.listdir(packet_name)\n",
    "    num = len(file_list)  # 文件夹下报文txt个数\n",
    "    \n",
    "    for i in range(1, num+1):\n",
    "        \n",
    "        # 每个文件名\n",
    "        read_file_name = packet_name + '\\\\' + str(i) + '.txt'\n",
    "    \n",
    "        # 打开，整体读取，而非按行读取\n",
    "        f = open(read_file_name, 'r')\n",
    "        content = f.read()\n",
    "        f.close()\n",
    "        \n",
    "        # 存入列表中\n",
    "        packets.append(content)\n",
    "    \n",
    "    return packets"
   ]
  },
  {
   "cell_type": "code",
   "execution_count": 3,
   "metadata": {},
   "outputs": [],
   "source": [
    "# 定义函数，由所有报文得到不同的n-grams，列表中不会出现相同的元素。目的是提升统计频率的时间效率\n",
    "# 参数：第一个参数为n，便于尝试不同的n值；第二个参数为packets，即待划分的报文数据列表\n",
    "# 返回值：所有不同的 n-grams 构成的列表\n",
    "def get_unique_ngrams(n, packets):\n",
    "    num = len(packets)  # 报文数目\n",
    "    unique_ngrams = []\n",
    "    for i in range(num):  # 遍历所有报文\n",
    "        message = packets[i]\n",
    "        length = len(message)  # 长度\n",
    "        repeat = length - n + 1  # 一条报文上的循环次数\n",
    "        for i in range(repeat):\n",
    "            if message[i:i+n] not in unique_ngrams:\n",
    "                unique_ngrams.append(message[i:i+n])  # 都存入ngrams列表中\n",
    "    return unique_ngrams"
   ]
  },
  {
   "cell_type": "code",
   "execution_count": 4,
   "metadata": {},
   "outputs": [],
   "source": [
    "# 定义函数，由所有报文得到n-grams，此处还未做频率的统计处理\n",
    "# 参数：第一个参数为n，便于尝试不同的n值；第二个参数为packets，即待划分的报文数据列表\n",
    "# 返回值：所有 n-grams 构成的列表\n",
    "def get_all_ngrams(n, packets):\n",
    "    num = len(packets)  # 报文数目\n",
    "    all_ngrams = []\n",
    "    for i in range(num):  # 遍历所有报文\n",
    "        message = packets[i]\n",
    "        length = len(message)  # 长度\n",
    "        repeat = length - n + 1  # 一条报文上的循环次数\n",
    "        for i in range(repeat):\n",
    "            all_ngrams.append(message[i:i+n])  # 都存入ngrams列表中\n",
    "    return all_ngrams"
   ]
  },
  {
   "cell_type": "code",
   "execution_count": 5,
   "metadata": {},
   "outputs": [],
   "source": [
    "# 定义函数，只保留频率排名靠前的一部分n-grams\n",
    "# 参数：第一个参数为 P ，代表保留频率和满足阈值的一部分n-grams；\n",
    "#       第二个参数为unique_ngrams，即所有不同的n-grams的列表(get_unique_ngrams的返回值)\n",
    "#       第三个参数为all_ngrams，即所有报文的n-grams的列表(get_all_ngrams的返回值)\n",
    "# 返回值：频率和为P的 n-grams 列表\n",
    "def get_allfreq_ngrams(P, unique_ngrams, all_ngrams):\n",
    "    # 统计n-grams总数\n",
    "    num1 = len(unique_ngrams)\n",
    "    num2 = len(all_ngrams)\n",
    "    print(\"所有不同的n-grams总数为：\", num1)\n",
    "    print(\"所有报文的n-grams总数为：\", num2)\n",
    "    # 先统计每种n-gram的出现频率，记录在字典中\n",
    "    ngrams_dict = {}  # 存放各个n-gram的频率信息，无序的\n",
    "    for i in unique_ngrams:  # 遍历n-grams，统计每个出现频率\n",
    "        ngrams_dict[i] = all_ngrams.count(i)/num2  # key为n-gram, value为出现的频率\n",
    "    # 对频率进行由大到小排序\n",
    "    ordered = sorted(ngrams_dict.items(), key=lambda item: item[1], reverse=True)\n",
    "    # 取出频率较高的一部分一部分\n",
    "    allfreq_ngrams = []\n",
    "    i = 0  # 当前取到第几个\n",
    "    sum_p = 0  # 频率和\n",
    "    while(sum_p < P):\n",
    "        sum_p += ordered[i][1]\n",
    "        allfreq_ngrams.append(ordered[i][0])\n",
    "        i += 1\n",
    "    return allfreq_ngrams"
   ]
  },
  {
   "cell_type": "code",
   "execution_count": 6,
   "metadata": {},
   "outputs": [],
   "source": [
    "# 定义函数，由所有报文得到n-grams，此处还未做频率的统计处理\n",
    "# 参数：第一个参数为n，便于尝试不同的n值；第二个参数为packets，即待划分的报文数据列表\n",
    "# 返回值：列表套列表，大列表中每个元素是一个小列表，小列表对应一条报文的n-grams\n",
    "def get_separate_ngrams(n, packets):\n",
    "    sep_ngrams = []  # 用于存放不同报文的n-grams列表的大列表\n",
    "    num = len(packets)\n",
    "    for i in range(num):\n",
    "        message = packets[i]\n",
    "        length = len(message)\n",
    "        message_ngrams = []  # 存储该报文n-grams的小列表\n",
    "        repeat = length - n + 1  # 循环次数\n",
    "        for j in range(repeat):\n",
    "            message_ngrams.append(message[j:j+n])  # 小列表\n",
    "        sep_ngrams.append(message_ngrams)  # 大列表\n",
    "    return sep_ngrams"
   ]
  },
  {
   "cell_type": "code",
   "execution_count": 7,
   "metadata": {},
   "outputs": [],
   "source": [
    "# 定义函数，每个报文只保留频率较高的n-grams\n",
    "# 参数：第一个参数为 freq_ngrams，频数排名靠前的n-grams列表，即函数get_freq_ngrams的返回结果\n",
    "#       第二个参数为 ngrams, 各个报文n-grams列表组成的列表，即函数get_separate_ngrams的返回结果，大列表套小列表形式\n",
    "# 返回值：列表套列表，大列表中每个元素是一个小列表，小列表对应一条报文的高频n-grams\n",
    "def get_sepfreq_ngrams(allfreq_ngrams, ngrams):\n",
    "    sepfreq_ngrams = []  # 用于存放不同报文的高频n-grams列表的大列表\n",
    "    num = len(ngrams)\n",
    "    for i in range(num):  # 遍历报文\n",
    "        message = ngrams[i]\n",
    "        message_freq_ngrams = []  # 该报文高频n-grams的小列表\n",
    "        for j in range(len(message)):\n",
    "            if message[j] in allfreq_ngrams:\n",
    "                message_freq_ngrams.append(message[j])  # 小列表\n",
    "        sepfreq_ngrams.append(message_freq_ngrams)  # 大列表\n",
    "    return sepfreq_ngrams"
   ]
  },
  {
   "cell_type": "code",
   "execution_count": 8,
   "metadata": {},
   "outputs": [],
   "source": [
    "# 定义函数，将每个报文的高频n-grams保存到文件中,同一报文中n-grams空格隔开，每个报文占一行，末尾加换行符\n",
    "# 参数：写入的内容，即报文的高频n-grams列表组成的大列表\n",
    "def save_freq_file(packet_name, content):\n",
    "    \n",
    "    for i in range(1, len(content)+1):\n",
    "        # 写入文件名\n",
    "        write_file_name = packet_name + '\\\\' + str(i) + '.txt'\n",
    "        f = open(write_file_name, 'w')\n",
    "        \n",
    "        s = content[i-1]  # 减1，列表从0开始编号\n",
    "        t = '####'.join(s)\n",
    "        f.write(t)\n",
    "        \n",
    "        f.close()  # 关闭文件"
   ]
  },
  {
   "cell_type": "code",
   "execution_count": 18,
   "metadata": {},
   "outputs": [
    {
     "name": "stdout",
     "output_type": "stream",
     "text": [
      "成功读取输入文件\n",
      "成功获得所有不同的n-grams的列表\n",
      "成功获得所有n-grams的小列表\n",
      "所有不同的n-grams总数为： 30844\n",
      "所有报文的n-grams总数为： 107765\n",
      "\n",
      "保留频率和为0.640000的n-grams，共保留872个\n",
      "保留的n-grams为：\n",
      " ['\\n250', '250-', '----', '@loc', 'loca', 'ocal', 'calh', 'alho', 'lhos', 'host', 'tone', 'oney', '250 ', '5155', 'ney-', 'ey-p', 'y-pk', '-pkl', 'pkl-', 'kl-s', 'l-se', '-ser', 'serv', 'erve', 'rver', '.151', '1515', '1557', '5575', '50 2', '0 2.', '5754', '\\nCon', 'Cont', 'onte', 'nten', 'tent', 'ent-', 'nt-T', '---=', '--=_', '-=_P', '=_Pa', '_Par', 'Part', 'art_', 'ost>', 'st>\\n', 't>\\n2', '>\\n25', ' 2.1', '2.1.', ' Ok\\n', 'ost\\n', 'rt_4', ' ton', 'ver\\n', 'er\\n2', 'r\\n25', '50-S', '50-E', 'S\\n25', 'MIME', '.0 O', '0 Ok', '<CR>', 'CR><', 'R><L', '><LF', '<LF>', 't-Ty', '-Typ', 'Type', 'ype:', 'pe: ', '\\n---', ' 2.0', '2.0.', '.0.0', '0.0 ', 'Ok\\nR', 'k\\nRC', '\\nRCP', 'RCPT', 'CPT ', 'PT T', 'T TO', ' TO:', 'TO:<', '.1.5', '1.5 ', '.5 O', '5 Ok', '0\\nCo', '0240', '4000', '1024', ': te', 'sfer', '220 ', '20 t', '0 to', 'ver ', 'er E', 'r ES', ' ESM', 'ESMT', 'SMTP', 'MTP ', 'TP P', 'P Po', ' Pos', 'Post', 'ostf', 'stfi', 'tfix', 'fix ', 'ix (', 'x (U', ' (Ub', '(Ubu', 'Ubun', 'bunt', 'untu', 'ntu)', 'tu)\\n', 'u)\\nE', ')\\nEH', '\\nEHL', 'EHLO', 'HLO ', 'LO t', 'O to', '50-t', '0-to', '-ton', '50-P', '0-PI', '-PIP', 'PIPE', 'IPEL', 'PELI', 'ELIN', 'LINI', 'ININ', 'NING', 'ING\\n', 'NG\\n2', 'G\\n25', '0-SI', '-SIZ', 'SIZE', 'IZE ', 'ZE 1', 'E 10', ' 102', '2400', '0000', '000\\n', '00\\n2', '0\\n25', '50-V', '0-VR', '-VRF', 'VRFY', 'RFY\\n', 'FY\\n2', 'Y\\n25', '0-ET', '-ETR', 'ETRN', 'TRN\\n', 'RN\\n2', 'N\\n25', '0-ST', '-STA', 'STAR', 'TART', 'ARTT', 'RTTL', 'TTLS', 'TLS\\n', 'LS\\n2', '0-EN', '-ENH', 'ENHA', 'NHAN', 'HANC', 'ANCE', 'NCED', 'CEDS', 'EDST', 'DSTA', 'STAT', 'TATU', 'ATUS', 'TUSC', 'USCO', 'SCOD', 'CODE', 'ODES', 'DES\\n', 'ES\\n2', '50-8', '0-8B', '-8BI', '8BIT', 'BITM', 'ITMI', 'TMIM', 'IME\\n', 'ME\\n2', 'E\\n25', '50 D', '0 DS', ' DSN', 'DSN\\n', 'SN\\nM', 'N\\nMA', '\\nMAI', 'MAIL', 'AIL ', 'IL F', 'L FR', ' FRO', 'FROM', 'ROM:', 'OM:<', '.1.0', '1.0 ', 'Ok\\nD', 'k\\nDA', '\\nDAT', 'DATA', 'ATA\\n', 'TA\\n3', 'A\\n35', '\\n354', '354 ', '54 E', '4 En', ' End', 'End ', 'nd d', 'd da', ' dat', 'data', 'ata ', 'ta w', 'a wi', ' wit', 'with', 'ith ', 'th <', 'h <C', ' <CR', 'LF>.', 'F>.<', '>.<C', '.<CR', 'LF>\\n', 'F>\\nF', '>\\nFr', '\\nFro', 'From', 'rom:', 'om: ', 'st\\nT', 't\\nTo', '\\nTo:', 'To: ', 'st\\nM', 't\\nMe', '\\nMes', 'Mess', 'essa', 'ssag', 'sage', 'age-', 'ge-I', 'e-ID', '-ID:', 'ID: ', 'D: <', '.Jav', 'Java', 'avaM', 'vaMa', 'aMai', 'Mail', 'ail.', 'il.t', 'l.to', '.ton', 'ney@', 'ey@t', 'y@to', '@ton', 'ver>', 'er>\\n', 'r>\\nS', '>\\nSu', '\\nSub', 'Subj', 'ubje', 'bjec', 'ject', 'ect:', 'ct: ', '\\nMIM', 'IME-', 'ME-V', 'E-Ve', '-Ver', 'Vers', 'ersi', 'rsio', 'sion', 'ion:', 'on: ', 'n: 1', ': 1.', ' 1.0', '1.0\\n', '.0\\nC', 'e: m', ': mu', ' mul', 'mult', 'ulti', 'ltip', 'tipa', 'ipar', 'part', 'art/', 'rt/m', 't/mi', '/mix', 'mixe', 'ixed', 'xed;', 'ed; ', 'd; \\n', '; \\n\\t', ' \\n\\tb', '\\n\\tbo', '\\tbou', 'boun', 'ound', 'unda', 'ndar', 'dary', 'ary=', 'ry=\"', 'y=\"-', '=\"--', '\"---', '\"\\n\\n-', '\\n\\n--', 'e: t', ' tex', 'text', 'ext/', 'xt/p', 't/pl', '/pla', 'plai', 'lain', 'ain;', 'in; ', 'n; c', '; ch', ' cha', 'char', 'hars', 'arse', 'rset', 'set=', 'et=u', 't=us', '=us-', 'us-a', 's-as', '-asc', 'asci', 'scii', 'cii\\n', 'ii\\nC', 'i\\nCo', 't-Tr', '-Tra', 'Tran', 'rans', 'ansf', 'nsfe', 'fer-', 'er-E', 'r-En', '-Enc', 'Enco', 'ncod', 'codi', 'odin', 'ding', 'ing:', 'ng: ', 'g: 7', ': 7b', ' 7bi', '7bit', 'bit\\n', 'it\\n\\n', '--\\n.', '-\\n.\\n', '\\n.\\n2', '.\\n25', ' Ok:', 'Ok: ', 'k: q', ': qu', ' que', 'queu', 'ueue', 'eued', 'ued ', 'ed a', 'd as', ' as ', '\\nQUI', 'QUIT', 'UIT\\n', 'IT\\n2', 'T\\n22', '\\n221', '221 ', '21 2', '1 2.', '.0 B', '0 By', ' Bye', 'Bye\\n', '5753', ': <1', '7541', '1.15', 'rt_3', '0.15', '9.15', '19C1', '3.15', '7542', '7544', '7540', '7539', '7538', '7.15', '7545', '19C0', '7543', 'st\\nC', 't\\nCc', '\\nCc:', 'Cc: ', 't_40', '2.15', 't_43', '5.15', 't_42', 't_49', 't_41', '4.15', 't_38', 't_48', '7@lo', 'e@lo', 'n@lo', 'z@lo', 't_47', 'i@lo', 't_37', 'o@lo', 'd@lo', '5385', 'x@lo', '06_1', 't_45', 'c@lo', 't_46', 't_39', '1@lo', 'q@lo', '6.15', '5415', 'r@lo', '5417', '8.15', '5443', '40.1', 't@lo', '93.1', '5420', 'u@lo', 't_44', 'p@lo', '9@lo', '00.1', '0_11', '81.1', 's@lo', '9\"\\n\\n', '9\\nCo', '9--\\n', '2@lo', '59.1', 'h@lo', 'w@lo', '9.Ja', 'm@lo', '5452', '5@lo', 'as A', '6@lo', 'k@lo', '48_1', '5399', '5401', '3\"\\n\\n', '3\\nCo', '3--\\n', '3.Ja', '_402', '5457', 'g@lo', '5396', '2\"\\n\\n', '2\\nCo', '2--\\n', '5428', '27.1', '6_17', '5434', '4345', '4259', ' <17', '3792', '3850', '8502', '_379', '5388', '2.Ja', 'as D', '4184', '24.1', '7\"\\n\\n', '7\\nCo', '7--\\n', '8@lo', '79.1', '77.1', '5447', '3997', '3886', 'y@lo', '1717', 'A19C', '1.Ja', '2629', '1\"\\n\\n', '1\\nCo', '1--\\n', '0.Ja', '0\"\\n\\n', '0--\\n', 'v@lo', '7.Ja', '0@lo', 'a@lo', '519C', '6\\nQU', '0483', 'as 2', '4@lo', '29.1', '4270', '6_18', 'C19C', '5.Ja', '5\"\\n\\n', '5\\nCo', '5--\\n', '_183', '3469', '43.1', 'as C', '2\\nQU', '4528', '800_', '00_2', '2_14', '_405', '419C', '3@lo', '_429', '_397', '757_', '90.1', '97.1', '596_', '96_1', '6_12', '22_1', '5418', '_384', '6_14', '_182', 'b@lo', '_434', '_474', '70_1', '7920', '75.1', '_413', 'O:<k', '4159', '1594', '5949', '8.Ja', 'B\\nQU', ' <15', '4559', '5453', '71.1', '5410', '4107', '1079', '0796', '6.Ja', '4018', '5445', '4.Ja', '61.1', '5435', '4026', '5400', '9C0A', 'O:<v', ' <14', '31.1', 't\\n\\nc', '3972', '3966', '9667', '6670', '919C', 'n7@l', '4\"\\n\\n', '4\\nCo', '4--\\n', '4153', '1535', '5354', '5024', '5\\nQU', ' <16', '4387', '5422', '9C16', 'O:<h', '5448', '5390', '3904', 'F19C', '8860', '8601', '09.1', '5455', '4201', '2015', '0157', '5408', '4087', '4452', '4522', '5406', '4337', '4359', 'M:<3', 'm: 3', ' <10', '1809', '9171', '8\"\\n\\n', '8\\nCo', '1\\n--', '8--\\n', 'O:<m', '3235', '3881', '619C', ' <13', '6\"\\n\\n', '6\\nCo', '6--\\n', '9C0B', '9\\nQU', 'O:<l', '9581', '581.', 'O:<i', 'g\\n--', 'A\\nQU', 'm\\nMI', 'O:<t', '3\\n--', '0405', '1048', '3040', 'O:<b', '5010', 'E19C', '3831', '8790', 'O:<f', '2822', '5416', '1687', '6873', '159.', '3979', 'f@lo', '3591', '46.1', '4290', 'O:<z', 'j@lo', '07.1', '_427', '2706', '706_', '_180', '8091', '0917', '7174', '1740', '740.', 'as E', 'F\\nQU', '72.1', 'M:<v', 'm: v', '_491', 't\\n\\ns', 't\\n--', 'as 3', 'O:<0', 'ex@l', '_418', '1848', '848_', '8_18', '1834', '8346', '4698', '6987', '9874', '8743', '743.', '89.1', '8_26', '73.1', 'O:<w', 't: p', '7800', '0_25', '9478', '82.1', 'as 9', '0\\nQU', 'O:<p', 'ez@l', 'o: p', ': <4', '02_1', '_146', 'e\\n--', '8_11', '_118', '260_', '0201', '1823', 'as 0', '9C0F', '1757', '2992', '92_1', 'O:<d', '_485', '530_', '_499', '2046', '57_1', '50.1', ': <2', '02.1', 'iu@l', 'ag@l', '9726', '726_', '26_1', '_170', '1701', '7016', '0168', '1684', '6844', '8444', '4440', '440.', '_643', '3857', '4247', '4_19', '_199', '80.1', 'O:<9', '3757', 'p1@l', '_425', '2596', '_129', '1291', '2912', '9128', '1286', '2860', '8600', '600.', 'as 5', '7922', '922_', '2_10', '_104', '4830', '8304', '4059', '059.', '9C0E', '1832', '8323', '0107', 'O:<2', 'o: 2', 'd\\nMI', '_438', '78_1', '7\\nQU', ' <19', '_431', '60_1', '077.', '416_', '16_1', '_144', '7673', '62_1', '2879', '976_', '6_21', '_387', 'as 7', '1\\nQU', '1705']\n",
      "\n",
      "成功获得各个报文的n-grams列表\n",
      "成功获得各个报文的高频n-grams列表\n",
      "成功保存各个报文的高频n-grams到文件中\n",
      "\n",
      "该模块运行时间： 78.76027536392212 秒\n"
     ]
    }
   ],
   "source": [
    "begin_time = time.time()  # 统计程序运行时间\n",
    "\n",
    "n = 4  # 初始化取值，n-gram中 n 的取值\n",
    "P = 0.64  # 保留的频率和\n",
    "\n",
    "packets = read_input('input')  # 读取文件，得到报文列表\n",
    "print(\"成功读取输入文件\")\n",
    "\n",
    "unique_ngrams = get_unique_ngrams(n, packets)  # 从输入文件中获得所有n-grams的列表\n",
    "print(\"成功获得所有不同的n-grams的列表\")\n",
    "\n",
    "all_ngrams = get_all_ngrams(n, packets)  # 从输入文件中获得所有n-grams的列表\n",
    "print(\"成功获得所有n-grams的小列表\")\n",
    "\n",
    "allfreq_ngrams = get_allfreq_ngrams(P, unique_ngrams, all_ngrams)  # 排序，取出频率较高的一部分n-grams\n",
    "ngrams_num = len(allfreq_ngrams)\n",
    "print(\"\\n保留频率和为%f的n-grams，共保留%d个\" % (P, ngrams_num))\n",
    "print(\"保留的n-grams为：\\n\", allfreq_ngrams)\n",
    "\n",
    "sep_ngrams = get_separate_ngrams(n, packets)  # 从输入文件中获得n-grams的大列表套小列表的形式\n",
    "print(\"\\n成功获得各个报文的n-grams列表\")\n",
    "\n",
    "sepfreq_ngrams = get_sepfreq_ngrams(allfreq_ngrams, sep_ngrams)  # 保留每条报文中的高频n-grams\n",
    "print(\"成功获得各个报文的高频n-grams列表\")\n",
    "\n",
    "save_freq_file('freq-ngrams', sepfreq_ngrams)  # 保存报文的高频n-grams\n",
    "print(\"成功保存各个报文的高频n-grams到文件中\")\n",
    "\n",
    "end_time = time.time()\n",
    "run_time = end_time - begin_time\n",
    "print ('\\n该模块运行时间：',run_time, '秒')"
   ]
  },
  {
   "cell_type": "code",
   "execution_count": null,
   "metadata": {},
   "outputs": [],
   "source": []
  }
 ],
 "metadata": {
  "kernelspec": {
   "display_name": "Python 3",
   "language": "python",
   "name": "python3"
  },
  "language_info": {
   "codemirror_mode": {
    "name": "ipython",
    "version": 3
   },
   "file_extension": ".py",
   "mimetype": "text/x-python",
   "name": "python",
   "nbconvert_exporter": "python",
   "pygments_lexer": "ipython3",
   "version": "3.6.5"
  }
 },
 "nbformat": 4,
 "nbformat_minor": 2
}
