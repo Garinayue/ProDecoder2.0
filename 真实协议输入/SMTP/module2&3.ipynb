{
 "cells": [
  {
   "cell_type": "code",
   "execution_count": 1,
   "metadata": {},
   "outputs": [],
   "source": [
    "import os\n",
    "import numpy as np\n",
    "import lda\n",
    "import matplotlib.pyplot as plt\n",
    "import scipy.cluster.hierarchy as sch\n",
    "import shutil  # 用于复制文件\n",
    "import time"
   ]
  },
  {
   "cell_type": "code",
   "execution_count": 3,
   "metadata": {},
   "outputs": [],
   "source": [
    "# 定义函数，读取所有的输入txt文件，获得所有的报文数据\n",
    "# 参数：文件夹名称，txt后缀\n",
    "# 返回值：所有报文构成的列表，列表每个元素代表一条报文\n",
    "def read_input(packet_name):\n",
    "    \n",
    "    packets = []  # 存放所有报文，每个元素代表一个报文\n",
    "    file_list = os.listdir(packet_name)\n",
    "    num = len(file_list)  # 文件夹下报文txt个数\n",
    "    \n",
    "    for i in range(1, num+1):\n",
    "        \n",
    "        # 每个文件名\n",
    "        read_file_name = packet_name + '\\\\' + str(i) + '.txt'\n",
    "    \n",
    "        # 打开，整体读取，而非按行读取\n",
    "        f = open(read_file_name, 'r')\n",
    "        content = f.read()\n",
    "        f.close()\n",
    "        \n",
    "        # 存入列表中\n",
    "        packets.append(content)\n",
    "    \n",
    "    return packets"
   ]
  },
  {
   "cell_type": "code",
   "execution_count": 4,
   "metadata": {},
   "outputs": [],
   "source": [
    "# 定义函数，对高频n-grams列表预处理，为每个 n-gram 赋予编号，报文使用 n-gram 编号的列表表示，组织训练数据矩阵\n",
    "# 参数：各个报文的高频n-grams列表，大列表套小列表形式\n",
    "# 返回值：四个\n",
    "# 1. new_packets  所有报文的编号列表，每个报文对应一个存放n-gram编号的小列表\n",
    "# 2. ngram2id  字典，键为 n-gram，值为 id\n",
    "# 3. id2ngram  字典，键为 id，值为 n-gram\n",
    "# 4. X  组织好的训练数据，每一行代表一个报文，每一列为一个n-gram，(i, j)代表第i个文档中第j个n-gram出现的次数\n",
    "\n",
    "def preprocess(packets):\n",
    "    # 初始化\n",
    "    ngram2id = {}  # 字典，键为 n-gram，值为 id\n",
    "    id2ngram = {}  # 字典，键为 id，值为 n-gram\n",
    "    new_packets = []  # 存放所有报文的编号列表，每个报文对应一个存放n-gram编号的小列表\n",
    "    currentPacket = []  # 当前报文的编号列表\n",
    "    currentId = 0  # n-gram当前编号到哪个数字了\n",
    "    # 对n-gram和报文进行编号\n",
    "    for message in packets:  # 遍历每个报文\n",
    "        for ngram in message:   # 遍历报文的每个n-gram\n",
    "            if ngram in ngram2id:  # 如果该n-gram已经编号过\n",
    "                currentPacket.append(ngram2id[ngram])  # 直接记录该报文的n-gram编号即可\n",
    "            else:  # 如果该n-gram未编号过\n",
    "                ngram2id[ngram] = currentId  # 先分别在两个列表中对该n-gram进行编号\n",
    "                id2ngram[currentId] = ngram\n",
    "                currentPacket.append(currentId)  # 再记录报文的n-gram编号\n",
    "                currentId += 1\n",
    "        new_packets.append(currentPacket)  # 存储该报文的编号列表\n",
    "        currentPacket = []\n",
    "    # 组织训练数据\n",
    "    row = len(packets)\n",
    "    col = len(ngram2id)\n",
    "    X = np.zeros([row, col], dtype=int)  # 要指定int，不然model.fit(X)会报错说无法将float64转化为int64\n",
    "    for i in range(row):  # 遍历报文，填充矩阵值\n",
    "        for j in new_packets[i]:\n",
    "            X[i, j] += 1\n",
    "    return new_packets, ngram2id, id2ngram, X"
   ]
  },
  {
   "cell_type": "code",
   "execution_count": 5,
   "metadata": {},
   "outputs": [],
   "source": [
    "# 定义函数，输入相应的参数，并得到模型\n",
    "# 参数\n",
    "# 返回值：训练好的模型\n",
    "\n",
    "def get_model(packet_name, n_topics, n_iter, alpha, eta):\n",
    "    \n",
    "    packets = read_input(packet_name)\n",
    "    num = len(packets)\n",
    "    for i in range(num):\n",
    "        packets[i] = packets[i].split(\"####\")\n",
    "    \n",
    "    # 预处理，得到编号以及训练数据\n",
    "    new_packets, ngram2id, id2ngram, X = preprocess(packets)\n",
    "    # 训练模型\n",
    "    model = lda.LDA(n_topics=n_topics, n_iter=n_iter, alpha=alpha, eta=eta, random_state=1)\n",
    "    model.fit(X)\n",
    "    return model\n"
   ]
  },
  {
   "cell_type": "code",
   "execution_count": 6,
   "metadata": {},
   "outputs": [],
   "source": [
    "# 定义函数，训练lda模型并使用其结果对原始文件聚类，结果存到不同的文件中\n",
    "# 参数：除了模型 参数，还加了一个n_cluster，簇的最大个数\n",
    "\n",
    "def get_clusters(packet_name, model, n_cluster):\n",
    "    \n",
    "    message_topic = model.doc_topic_\n",
    "    \n",
    "    # 层次聚类，且是自底向上的凝聚聚类\n",
    "    X = message_topic  # 输入数据，lda模型得到的矩阵\n",
    "    disMat = sch.distance.pdist(X, 'euclidean')  # 生成点与点之间的距离矩阵,使用欧氏距离\n",
    "    Z = sch.linkage(disMat, method='average')  # 层次聚类编码为一个linkage矩阵\n",
    "    \n",
    "    # 画图\n",
    "    P = sch.dendrogram(Z)\n",
    "    plt.title('Dendrogram')\n",
    "    plt.xlabel('Messages')\n",
    "    plt.ylabel('Euclidean distances')\n",
    "    plt.show()\n",
    "    cluster = sch.fcluster(Z, t=n_cluster, criterion='maxclust')  # 指定簇的个数最大为4\n",
    "    print(\"\\n聚类结果为：\\n\", cluster)\n",
    "    return cluster"
   ]
  },
  {
   "cell_type": "code",
   "execution_count": 14,
   "metadata": {},
   "outputs": [],
   "source": [
    "# 定义函数：根据聚类结果将不同报文存储到不同的文件夹中\n",
    "# 参数：\n",
    "# packet_name：原始文件夹名\n",
    "# file_suffix：txt文件名的协议名后缀\n",
    "# n_cluster为簇的个数\n",
    "# cluster每个元素代表该报文的簇别\n",
    "\n",
    "def save_cluster(packet_name, n_cluster, cluster):\n",
    "    \n",
    "    for i in range(n_cluster):  # 对于每个簇\n",
    "        num = 0  # 初始化计数\n",
    "        cluster_name = 'cluster' + str(i+1)  # 创建该簇的文件夹\n",
    "        os.mkdir(cluster_name)\n",
    "        \n",
    "        for j in range(len(cluster)):  # 遍历每个报文的簇别数\n",
    "            if cluster[j] == (i+1):\n",
    "                num += 1\n",
    "                old_path = packet_name + '\\\\' + str(j+1) + '.txt'  # 新旧地址\n",
    "                new_path = cluster_name + '\\\\' + str(num) + '.txt'\n",
    "                f = open(new_path, 'w')  # 创建新的文件夹\n",
    "                f.close()\n",
    "                shutil.copyfile(old_path, new_path)\n",
    "        print(\"第%d个簇共有%d条报文数据\" % (i+1, num))\n",
    "    print(\"文件保存成功\")"
   ]
  },
  {
   "cell_type": "code",
   "execution_count": 13,
   "metadata": {},
   "outputs": [
    {
     "name": "stderr",
     "output_type": "stream",
     "text": [
      "INFO:lda:n_documents: 100\n",
      "INFO:lda:vocab_size: 872\n",
      "INFO:lda:n_words: 68973\n",
      "INFO:lda:n_topics: 4\n",
      "INFO:lda:n_iter: 400\n",
      "INFO:lda:<0> log likelihood: -538119\n",
      "INFO:lda:<10> log likelihood: -504055\n",
      "INFO:lda:<20> log likelihood: -489848\n",
      "INFO:lda:<30> log likelihood: -479316\n",
      "INFO:lda:<40> log likelihood: -471140\n",
      "INFO:lda:<50> log likelihood: -464771\n",
      "INFO:lda:<60> log likelihood: -459626\n",
      "INFO:lda:<70> log likelihood: -454998\n",
      "INFO:lda:<80> log likelihood: -451686\n",
      "INFO:lda:<90> log likelihood: -449584\n",
      "INFO:lda:<100> log likelihood: -447992\n",
      "INFO:lda:<110> log likelihood: -446354\n",
      "INFO:lda:<120> log likelihood: -444648\n",
      "INFO:lda:<130> log likelihood: -443444\n",
      "INFO:lda:<140> log likelihood: -442082\n",
      "INFO:lda:<150> log likelihood: -440354\n",
      "INFO:lda:<160> log likelihood: -439228\n",
      "INFO:lda:<170> log likelihood: -438456\n",
      "INFO:lda:<180> log likelihood: -437780\n",
      "INFO:lda:<190> log likelihood: -436560\n",
      "INFO:lda:<200> log likelihood: -436913\n",
      "INFO:lda:<210> log likelihood: -436902\n",
      "INFO:lda:<220> log likelihood: -436684\n",
      "INFO:lda:<230> log likelihood: -436728\n",
      "INFO:lda:<240> log likelihood: -436753\n",
      "INFO:lda:<250> log likelihood: -436156\n",
      "INFO:lda:<260> log likelihood: -436430\n",
      "INFO:lda:<270> log likelihood: -435962\n",
      "INFO:lda:<280> log likelihood: -435612\n",
      "INFO:lda:<290> log likelihood: -435407\n",
      "INFO:lda:<300> log likelihood: -435567\n",
      "INFO:lda:<310> log likelihood: -435460\n",
      "INFO:lda:<320> log likelihood: -435408\n",
      "INFO:lda:<330> log likelihood: -435497\n",
      "INFO:lda:<340> log likelihood: -435123\n",
      "INFO:lda:<350> log likelihood: -434822\n",
      "INFO:lda:<360> log likelihood: -434814\n",
      "INFO:lda:<370> log likelihood: -434343\n",
      "INFO:lda:<380> log likelihood: -434299\n",
      "INFO:lda:<390> log likelihood: -433898\n",
      "INFO:lda:<399> log likelihood: -434235\n"
     ]
    },
    {
     "name": "stdout",
     "output_type": "stream",
     "text": [
      "lda模型训练结束，开始进行聚类\n"
     ]
    },
    {
     "data": {
      "image/png": "[encoded data removed]",
      "text/plain": [
       "<Figure size 432x288 with 1 Axes>"
      ]
     },
     "metadata": {},
     "output_type": "display_data"
    },
    {
     "name": "stdout",
     "output_type": "stream",
     "text": [
      "\n",
      "聚类结果为：\n",
      " [2 1 1 1 2 1 2 1 1 1 2 1 1 1 1 1 1 1 2 1 1 1 2 1 1 1 2 2 2 1 2 1 1 2 1 2 1\n",
      " 2 2 2 1 2 1 1 1 2 1 1 2 1 1 2 1 2 2 1 1 1 2 2 2 1 1 2 1 1 2 1 2 2 1 1 1 1\n",
      " 1 1 1 2 1 1 2 1 1 1 1 2 1 1 1 2 1 2 2 2 1 1 2 1 2 2]\n",
      "\n",
      "开始保存各个簇文件\n",
      "第1个簇共有62条报文数据\n",
      "第2个簇共有38条报文数据\n",
      "文件保存成功\n",
      "\n",
      "两个模块运行时间： 3.1167001724243164 秒\n"
     ]
    }
   ],
   "source": [
    "begin_time = time.time()  # 统计程序运行时间\n",
    "\n",
    "model = get_model('freq-ngrams', 4, 400, 0.5, 0.005)\n",
    "print(\"lda模型训练结束，开始进行聚类\")\n",
    "cluster = get_clusters('freq-ngrams', model, 2)\n",
    "print(\"\\n开始保存各个簇文件\")\n",
    "save_cluster('input', 2, cluster)\n",
    "\n",
    "end_time = time.time()\n",
    "run_time = end_time - begin_time\n",
    "print ('\\n两个模块运行时间：',run_time, '秒')"
   ]
  },
  {
   "cell_type": "code",
   "execution_count": null,
   "metadata": {},
   "outputs": [],
   "source": []
  }
 ],
 "metadata": {
  "kernelspec": {
   "display_name": "Python 3",
   "language": "python",
   "name": "python3"
  },
  "language_info": {
   "codemirror_mode": {
    "name": "ipython",
    "version": 3
   },
   "file_extension": ".py",
   "mimetype": "text/x-python",
   "name": "python",
   "nbconvert_exporter": "python",
   "pygments_lexer": "ipython3",
   "version": "3.6.5"
  }
 },
 "nbformat": 4,
 "nbformat_minor": 2
}
