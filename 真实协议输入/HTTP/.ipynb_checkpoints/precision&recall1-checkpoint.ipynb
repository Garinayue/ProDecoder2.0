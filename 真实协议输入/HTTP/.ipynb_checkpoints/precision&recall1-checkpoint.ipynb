{
 "cells": [
  {
   "cell_type": "markdown",
   "metadata": {},
   "source": [
    "## 说明\n",
    "在以前的测试思路上进行了改善  \n",
    "1. 在报文中查找格式串时引入了beg参数，表示开始查询的起始位置，即按照报文从左到右依次查询，查找到第一个格式串便更新beg值\n",
    "2. 问题：SMTP协议提取的两种格式，记为A和B，A中只有一个\"RCPT TO\"，B中有4个\"RCPT TO\"以及 1个\"Cc: \"，即A是B的子集，导致在进行flase_test时，B格式的报文也会通过A的测试，使召回率计算错误。\n",
    "3. 解决：引入true_list，true_list中每个元素是一个小列表，对应一个test文件夹，记录test文件夹中通过自己的true_test的报文索引。执行false_test时，如果格式A匹配上了testB文件夹中的报文，不能直接将FN加一，还要判断该报文是否已在B类型的true_list中，如果在，则不能记为FN。"
   ]
  },
  {
   "cell_type": "code",
   "execution_count": 2,
   "metadata": {},
   "outputs": [],
   "source": [
    "import os"
   ]
  },
  {
   "cell_type": "code",
   "execution_count": 3,
   "metadata": {},
   "outputs": [
    {
     "name": "stdout",
     "output_type": "stream",
     "text": [
      "[['HTTP/1.1 304 Not Modified\\nDate: ', '\\nServer: ', '\\nConnection: ', '\\nKeep-Alive: ', '\\nETag: ', '\\nExpires: ', '\\nCache-Control: ', '\\n'], ['HTTP/1.1 200 OK\\nDate: ', '\\nServer: ', '\\nX-Frame-Options: ', '\\nLast-Modified: ', '\\nETag: ', '\\nAccept-Ranges: ', '\\nVary: ', '\\nContent-Encoding: ', '\\nCache-Control: ', '\\nExpires: ', '\\nContent-Length: ', '\\nKeep-Alive: ', '\\nConnection: ', '\\nContent-Type: ', '\\nContent-Language: ', '\\n'], ['GET ', ' HTTP/1.1\\nHost: ', '\\nConnection: ', '\\nUser-Agent: ', '\\nAccept: ', '\\nReferer: ', '\\nAccept-Encoding: ', '\\nAccept-Language: ', '\\nCookie: ', '\\n'], ['Post ', ' HTTP/1.1\\nHost: ', '\\nConnection: ', '\\nContent-Length: ', '\\nUser-Agent: ', '\\nContent_type: ', '\\nAccept: ', '\\nOrigin: ', '\\nReferer: ', '\\nAccept-Encoding: ', '\\nAccept-Language: ', '\\nCookie: ', '\\n']]\n"
     ]
    }
   ],
   "source": [
    "str1 = '''HTTP/1.1 304 Not Modified\n",
    "Date: ####\n",
    "Server: ####\n",
    "Connection: ####\n",
    "Keep-Alive: ####\n",
    "ETag: ####\n",
    "Expires: ####\n",
    "Cache-Control: ####\n",
    "'''\n",
    "\n",
    "str2 =  '''HTTP/1.1 200 OK\n",
    "Date: ####\n",
    "Server: ####\n",
    "X-Frame-Options: ####\n",
    "Last-Modified: ####\n",
    "ETag: ####\n",
    "Accept-Ranges: ####\n",
    "Vary: ####\n",
    "Content-Encoding: ####\n",
    "Cache-Control: ####\n",
    "Expires: ####\n",
    "Content-Length: ####\n",
    "Keep-Alive: ####\n",
    "Connection: ####\n",
    "Content-Type: ####\n",
    "Content-Language: ####\n",
    "'''\n",
    "\n",
    "str3 = '''GET #### HTTP/1.1\n",
    "Host: ####\n",
    "Connection: ####\n",
    "User-Agent: ####\n",
    "Accept: ####\n",
    "Referer: ####\n",
    "Accept-Encoding: ####\n",
    "Accept-Language: ####\n",
    "Cookie: ####\n",
    "'''\n",
    "\n",
    "str4 = '''Post #### HTTP/1.1\n",
    "Host: ####\n",
    "Connection: ####\n",
    "Content-Length: ####\n",
    "User-Agent: ####\n",
    "Content_type: ####\n",
    "Accept: ####\n",
    "Origin: ####\n",
    "Referer: ####\n",
    "Accept-Encoding: ####\n",
    "Accept-Language: ####\n",
    "Cookie: ####\n",
    "'''\n",
    "\n",
    "format1 = str1.split('####')\n",
    "format2 = str2.split('####')\n",
    "format3 = str3.split('####')\n",
    "format4 = str4.split('####')\n",
    "\n",
    "format_all = []\n",
    "format_all.append(format1)\n",
    "format_all.append(format2)\n",
    "format_all.append(format3)\n",
    "format_all.append(format4)\n",
    "print(format_all)"
   ]
  },
  {
   "cell_type": "code",
   "execution_count": 4,
   "metadata": {},
   "outputs": [],
   "source": [
    "# 定义函数，读取所有的输入txt文件，获得所有的报文数据\n",
    "# 参数：文件夹名称，txt后缀\n",
    "# 返回值：所有报文构成的列表，列表每个元素代表一条报文\n",
    "def read_input(packet_name):\n",
    "    \n",
    "    packets = []  # 存放所有报文，每个元素代表一个报文\n",
    "    file_list = os.listdir(packet_name)\n",
    "    num = len(file_list)  # 文件夹下报文txt个数\n",
    "    \n",
    "    for i in range(1, num+1):\n",
    "        \n",
    "        # 每个文件名\n",
    "        read_file_name = packet_name + '\\\\' + str(i) + '.txt'\n",
    "    \n",
    "        # 打开，整体读取，而非按行读取\n",
    "        f = open(read_file_name, 'r')\n",
    "        content = str(f.read())\n",
    "        f.close()\n",
    "        \n",
    "        # 存入列表中\n",
    "        packets.append(content)\n",
    "    \n",
    "    return packets"
   ]
  },
  {
   "cell_type": "code",
   "execution_count": 5,
   "metadata": {},
   "outputs": [],
   "source": [
    "# 真测试，即测试文件和考察的格式串为同一类别，可以计算TP和FP\n",
    "# TP: 认为是这个类别，同时测试通过，即真的属于这个类别\n",
    "# FP：认为是这个类别，但测试没有通过，即实际不属于这个类别\n",
    "\n",
    "def true_test(true_list, class_id, flist):\n",
    "    \n",
    "    TP = 0\n",
    "    FP = 0\n",
    "    packet_name = 'test' + str(class_id)\n",
    "    packets = read_input(packet_name)\n",
    "    \n",
    "    for i in range(len(packets)):\n",
    "        packet = packets[i]\n",
    "        beg = 0  # 记录查找格式串的起始位置\n",
    "        for f in flist:\n",
    "            if packet.find(f, beg) != -1:\n",
    "                beg = packet.find(f, beg)\n",
    "            if packet.find(f, beg) == -1:\n",
    "                FP += 1\n",
    "                break\n",
    "            if f == flist[-1]:  # 所有格式串都找到\n",
    "                TP += 1\n",
    "                true_list[class_id-1].append(i)  # 记录TN的报文索引\n",
    "    return TP, FP"
   ]
  },
  {
   "cell_type": "code",
   "execution_count": 6,
   "metadata": {},
   "outputs": [],
   "source": [
    "# 假测试，即测试文件和考察的格式串为不同别，可以计算TN和FN\n",
    "# TN：认为不是这个类别，同时测试没有通过，即真的不属于这个类别\n",
    "# FN：认为不是这个类别，但是测试通过了，即实际属于这个类别\n",
    "\n",
    "def false_test(true_list, class_id, flist):\n",
    "    \n",
    "    TN = 0\n",
    "    FN = 0\n",
    "    packet_name = 'test' + str(class_id)\n",
    "    packets = read_input(packet_name)\n",
    "    \n",
    "    for i in range(len(packets)):\n",
    "        packet = packets[i]\n",
    "        beg = 0  # 记录查找格式串的起始位置\n",
    "        for f in flist:\n",
    "            if packet.find(f, beg) != -1:\n",
    "                beg = packet.find(f, beg)\n",
    "            if packet.find(f, beg) == -1:\n",
    "                TN += 1\n",
    "                break\n",
    "            if (f == flist[-1]) & (i not in true_list[class_id-1]):  # 所有格式串都找到\n",
    "                FN += 1\n",
    "    return TN, FN"
   ]
  },
  {
   "cell_type": "code",
   "execution_count": 7,
   "metadata": {},
   "outputs": [],
   "source": [
    "true_positive = 0\n",
    "true_negative = 0\n",
    "false_positive = 0\n",
    "false_negative = 0\n",
    "\n",
    "class_num = 2\n",
    "true_list = []  # 记录已经通过真测试且确定为TN的报文索引\n",
    "\n",
    "for j in range(1, class_num+1):\n",
    "    true_list.append([])\n",
    "\n",
    "# 真测试\n",
    "for j in range(1, class_num+1):\n",
    "    tp, fp = true_test(true_list, j, format_all[j-1])\n",
    "    true_positive += tp\n",
    "    false_positive += fp\n",
    "\n",
    "for j in range(1, class_num+1):\n",
    "    tn = 0\n",
    "    fn = 0\n",
    "    for k in range(1, class_num+1):\n",
    "        if j != k:\n",
    "            a, b = false_test(true_list, k, format_all[j-1])\n",
    "            tn += a\n",
    "            fn += b\n",
    "    true_negative += tn\n",
    "    false_negative += fn\n"
   ]
  },
  {
   "cell_type": "code",
   "execution_count": 8,
   "metadata": {},
   "outputs": [
    {
     "name": "stdout",
     "output_type": "stream",
     "text": [
      "200 0\n",
      "200 0\n"
     ]
    }
   ],
   "source": [
    "print(true_positive, false_positive)\n",
    "print(true_negative, false_negative)"
   ]
  },
  {
   "cell_type": "code",
   "execution_count": 9,
   "metadata": {},
   "outputs": [
    {
     "name": "stdout",
     "output_type": "stream",
     "text": [
      "精确率为： 1.0\n",
      "召回率为： 1.0\n"
     ]
    }
   ],
   "source": [
    "print(\"精确率为：\", true_positive / (true_positive+false_positive))\n",
    "print(\"召回率为：\", true_positive / (true_positive+false_negative))"
   ]
  },
  {
   "cell_type": "code",
   "execution_count": null,
   "metadata": {},
   "outputs": [],
   "source": []
  }
 ],
 "metadata": {
  "kernelspec": {
   "display_name": "Python 3",
   "language": "python",
   "name": "python3"
  },
  "language_info": {
   "codemirror_mode": {
    "name": "ipython",
    "version": 3
   },
   "file_extension": ".py",
   "mimetype": "text/x-python",
   "name": "python",
   "nbconvert_exporter": "python",
   "pygments_lexer": "ipython3",
   "version": "3.6.5"
  }
 },
 "nbformat": 4,
 "nbformat_minor": 2
}
