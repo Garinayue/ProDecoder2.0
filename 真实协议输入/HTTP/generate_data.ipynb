{
 "cells": [
  {
   "cell_type": "code",
   "execution_count": 35,
   "metadata": {},
   "outputs": [],
   "source": [
    "import random\n",
    "import string\n",
    "import os"
   ]
  },
  {
   "cell_type": "code",
   "execution_count": 36,
   "metadata": {},
   "outputs": [
    {
     "name": "stdout",
     "output_type": "stream",
     "text": [
      "3\n"
     ]
    }
   ],
   "source": [
    "# 定义函数：生成指定范围内的随机整数\n",
    "\n",
    "def get_int(low, high):\n",
    "    n = random.randint(low, high)\n",
    "    return n\n",
    "\n",
    "print(get_int(1,3))"
   ]
  },
  {
   "cell_type": "code",
   "execution_count": 37,
   "metadata": {},
   "outputs": [
    {
     "name": "stdout",
     "output_type": "stream",
     "text": [
      "Nv.sj1&:LCFb5eM_zo\"q;I uEZ2VRThrSiW,p/d%9*0\n"
     ]
    }
   ],
   "source": [
    "# 定义函数：生成指定长度范围的随机字符串，可以含有空格以及各种符号之类的\n",
    "\n",
    "def get_string(low, high):\n",
    "    n = get_int(low, high)\n",
    "    s = ''.join(random.sample(string.ascii_letters + string.digits + './*:, &;_?=%)(\"', n))\n",
    "    return s\n",
    "\n",
    "print(get_string(30, 50))"
   ]
  },
  {
   "cell_type": "code",
   "execution_count": 38,
   "metadata": {},
   "outputs": [],
   "source": [
    "# 第一种请求报文\n",
    "\n",
    "def Get():\n",
    "    line1 = 'GET ' + get_string(6, 60) + ' HTTP/1.1' + '\\n'\n",
    "    line2 = 'Host: ' + get_string(6, 60) + '\\n'\n",
    "    line3 = 'Connection: ' + get_string(6, 60) + '\\n'\n",
    "    line4 = 'User-Agent: ' + get_string(6, 60) + '\\n'\n",
    "    line5 = 'Accept: ' + get_string(6, 60) + '\\n'\n",
    "    line6 = 'Referer: ' + get_string(6, 60) + '\\n'\n",
    "    line7 = 'Accept-Encoding: ' + get_string(6, 60) + '\\n'\n",
    "    line8 = 'Accept-Language: ' + get_string(6, 60) + '\\n'\n",
    "    line9 = 'Cookie: ' + get_string(6, 60) + get_string(6, 60) + get_string(6, 60) + '\\n'\n",
    "    message = line1 + line2 + line3 + line4 + line5 + line6 + line7 + line8 + line9\n",
    "    return message"
   ]
  },
  {
   "cell_type": "code",
   "execution_count": 39,
   "metadata": {},
   "outputs": [],
   "source": [
    "# 第二种请求报文\n",
    "\n",
    "def Post():\n",
    "    line1 = 'Post ' + get_string(6, 60) + ' HTTP/1.1' + '\\n'\n",
    "    line2 = 'Host: ' + get_string(6, 60) + '\\n'\n",
    "    line3 = 'Connection: ' + get_string(6, 60) + '\\n'\n",
    "    line4 = 'Content-Length: ' + str(get_int(1, 1000)) + '\\n'\n",
    "    line5 = 'User-Agent: ' + get_string(6, 60) + '\\n'\n",
    "    line6 = 'Content_type: ' + get_string(6, 60) + '\\n'\n",
    "    line7 = 'Accept: ' + get_string(6, 60) + '\\n'\n",
    "    line8 = 'Origin: ' + get_string(6, 60) + '\\n'\n",
    "    line9 = 'Referer: ' + get_string(6, 60) + '\\n'\n",
    "    line10 = 'Accept-Encoding: ' + get_string(6, 60) + '\\n'\n",
    "    line11 = 'Accept-Language: ' + get_string(6, 60) + '\\n'\n",
    "    line12 = 'Cookie: ' + get_string(6, 60) + get_string(6, 60) + get_string(6, 60) + '\\n'\n",
    "    message = line1 + line2 + line3 + line4 + line5 + line6 + line7 + line8 + line9 + line10 + line11 + line12\n",
    "    return message"
   ]
  },
  {
   "cell_type": "code",
   "execution_count": 40,
   "metadata": {},
   "outputs": [],
   "source": [
    "# 第一种响应报文\n",
    "\n",
    "def OK_200():\n",
    "    line1 = 'HTTP/1.1 200 OK' + '\\n'\n",
    "    line2 = 'Date: ' + get_string(30, 60) + '\\n'\n",
    "    line3 = 'Server: ' + get_string(6, 30) + '\\n'\n",
    "    line4 = 'X-Frame-Options: ' + get_string(6, 30) + '\\n'\n",
    "    line5 = 'Last-Modified: ' + get_string(30, 60) + '\\n'\n",
    "    line6 = 'ETag: ' + get_string(6, 60) + '\\n'\n",
    "    line7 = 'Accept-Ranges: ' + get_string(6, 60) + '\\n'\n",
    "    line8 = 'Vary: ' + get_string(6, 60) + '\\n'\n",
    "    line9 = 'Content-Encoding: ' + get_string(6, 60) + '\\n'\n",
    "    line10 = 'Cache-Control: ' + get_string(6, 60) + '\\n'\n",
    "    line11 = 'Expires: ' + get_string(30, 60) + '\\n'\n",
    "    line12 = 'Content-Length: ' + str(get_int(1, 1000)) + '\\n'\n",
    "    line13 = 'Keep-Alive: ' + get_string(6, 60) + '\\n'\n",
    "    line14 = 'Connection: ' + get_string(6, 60) + '\\n'\n",
    "    line15 = 'Content-Type: ' + get_string(6, 60) + '\\n'\n",
    "    line16 = 'Content-Language: ' + get_string(6, 60) + '\\n'\n",
    "    message = line1 + line2 + line3 + line4 + line5 + line6 + line7 + line8 + line9 + line10 + line11 + line12 + line13 + line14 + line15 + line16\n",
    "    return message"
   ]
  },
  {
   "cell_type": "code",
   "execution_count": 41,
   "metadata": {},
   "outputs": [],
   "source": [
    "# 第二种响应报文\n",
    "\n",
    "def Not_Modified_304():\n",
    "    line1 = 'HTTP/1.1 304 Not Modified' + '\\n'\n",
    "    line2 = 'Date: ' + get_string(30, 60) + '\\n'\n",
    "    line3 = 'Server: ' + get_string(6, 30) + '\\n'\n",
    "    line4 = 'Connection: ' + get_string(6, 60) + '\\n'\n",
    "    line5 = 'Keep-Alive: ' + get_string(6, 60) + '\\n'\n",
    "    line6 = 'ETag: ' + get_string(6, 60) + '\\n'\n",
    "    line7 = 'Expires: ' + get_string(30, 60) + '\\n'\n",
    "    line8 = 'Cache-Control: ' + get_string(6, 60) + '\\n'\n",
    "    message = line1 + line2 + line3 + line4 + line5 + line6 + line7 + line8\n",
    "    return message"
   ]
  },
  {
   "cell_type": "markdown",
   "metadata": {},
   "source": [
    "## 批量生成4种输入"
   ]
  },
  {
   "cell_type": "code",
   "execution_count": 32,
   "metadata": {},
   "outputs": [],
   "source": [
    "for i in range(400):\n",
    "    \n",
    "    class_id = get_int(1,4)\n",
    "    if class_id == 1:\n",
    "        message = Get()\n",
    "    if class_id == 2:\n",
    "        message = Post()\n",
    "    if class_id == 3:\n",
    "        message = OK_200()\n",
    "    if class_id == 4:\n",
    "        message = Not_Modified_304()\n",
    "    \n",
    "    write_file_name = 'input\\\\' + str(i+1) + '.txt'\n",
    "    f = open(write_file_name, 'w')\n",
    "    f.write(message)\n",
    "    f.close()"
   ]
  },
  {
   "cell_type": "markdown",
   "metadata": {},
   "source": [
    "## 生成4个测试文件"
   ]
  },
  {
   "cell_type": "code",
   "execution_count": 43,
   "metadata": {},
   "outputs": [],
   "source": [
    "# 先生成4个测试文件夹\n",
    "for i in range(4):\n",
    "    cluster_name = 'test' + str(i+1)\n",
    "    os.mkdir(cluster_name)\n",
    "\n",
    "for i in range(100):\n",
    "    write_file_name = 'test1\\\\' + str(i+1) + '.txt'\n",
    "    message = Not_Modified_304()\n",
    "    f = open(write_file_name, 'w')\n",
    "    f.write(message)\n",
    "    f.close()\n",
    "\n",
    "for i in range(100):\n",
    "    write_file_name = 'test2\\\\' + str(i+1) + '.txt'\n",
    "    message = OK_200()\n",
    "    f = open(write_file_name, 'w')\n",
    "    f.write(message)\n",
    "    f.close()\n",
    "\n",
    "for i in range(100):\n",
    "    write_file_name = 'test3\\\\' + str(i+1) + '.txt'\n",
    "    message = Get()\n",
    "    f = open(write_file_name, 'w')\n",
    "    f.write(message)\n",
    "    f.close()\n",
    "    \n",
    "for i in range(100):\n",
    "    write_file_name = 'test4\\\\' + str(i+1) + '.txt'\n",
    "    message = Post()\n",
    "    f = open(write_file_name, 'w')\n",
    "    f.write(message)\n",
    "    f.close()"
   ]
  },
  {
   "cell_type": "code",
   "execution_count": null,
   "metadata": {},
   "outputs": [],
   "source": []
  }
 ],
 "metadata": {
  "kernelspec": {
   "display_name": "Python 3",
   "language": "python",
   "name": "python3"
  },
  "language_info": {
   "codemirror_mode": {
    "name": "ipython",
    "version": 3
   },
   "file_extension": ".py",
   "mimetype": "text/x-python",
   "name": "python",
   "nbconvert_exporter": "python",
   "pygments_lexer": "ipython3",
   "version": "3.6.5"
  }
 },
 "nbformat": 4,
 "nbformat_minor": 2
}
