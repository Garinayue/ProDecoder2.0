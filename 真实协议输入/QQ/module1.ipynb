{
 "cells": [
  {
   "cell_type": "markdown",
   "metadata": {},
   "source": [
    "## 说明\n",
    "之前所有输入都在一个txt文件中，一行代表一个报文，忽略了报文中的回车换行符，并且默认了报文中不含有符号'-'  \n",
    "本处做修正：  \n",
    "1. 每个txt文件作为一个报文\n",
    "2. 不能采用-作为分隔符，选用####作为连接各个n-gram的分隔符\n",
    "3. 由于http自己构造时有大量随机字符，导致重复的n-gram很少，采用先统计unique_ngrams的方式反而会使时间加倍，因此不能先统计unique_ngrams，而是直接使用all_ngrams"
   ]
  },
  {
   "cell_type": "code",
   "execution_count": 1,
   "metadata": {},
   "outputs": [],
   "source": [
    "import os\n",
    "import time"
   ]
  },
  {
   "cell_type": "code",
   "execution_count": 2,
   "metadata": {},
   "outputs": [],
   "source": [
    "# 定义函数，读取所有的输入txt文件，获得所有的报文数据\n",
    "# 参数：文件夹名称，txt后缀\n",
    "# 返回值：所有报文构成的列表，列表每个元素代表一条报文\n",
    "def read_input(packet_name):\n",
    "    \n",
    "    packets = []  # 存放所有报文，每个元素代表一个报文\n",
    "    file_list = os.listdir(packet_name)\n",
    "    num = len(file_list)  # 文件夹下报文txt个数\n",
    "    \n",
    "    for i in range(1, num+1):\n",
    "        \n",
    "        # 每个文件名\n",
    "        read_file_name = packet_name + '\\\\' + str(i) + '.txt'\n",
    "    \n",
    "        # 打开，二进制整体读取，而非按行读取\n",
    "        f = open(read_file_name, 'r')\n",
    "        content = f.read()\n",
    "        f.close()\n",
    "        \n",
    "        # 存入列表中\n",
    "        packets.append(content)\n",
    "    \n",
    "    return packets"
   ]
  },
  {
   "cell_type": "code",
   "execution_count": 3,
   "metadata": {},
   "outputs": [],
   "source": [
    "# 定义函数，由所有报文得到不同的n-grams，列表中不会出现相同的元素。目的是提升统计频率的时间效率\n",
    "# 参数：第一个参数为n，便于尝试不同的n值；第二个参数为packets，即待划分的报文数据列表\n",
    "# 返回值：所有不同的 n-grams 构成的列表\n",
    "def get_unique_ngrams(n, packets):\n",
    "    num = len(packets)  # 报文数目\n",
    "    unique_ngrams = []\n",
    "    for i in range(num):  # 遍历所有报文\n",
    "        message = packets[i]\n",
    "        length = len(message)  # 长度\n",
    "        repeat = length - n + 1  # 一条报文上的循环次数\n",
    "        for i in range(repeat):\n",
    "            if message[i:i+n] not in unique_ngrams:\n",
    "                unique_ngrams.append(message[i:i+n])  # 都存入ngrams列表中\n",
    "    return unique_ngrams"
   ]
  },
  {
   "cell_type": "code",
   "execution_count": 4,
   "metadata": {},
   "outputs": [],
   "source": [
    "# 定义函数，由所有报文得到n-grams，此处还未做频率的统计处理\n",
    "# 参数：第一个参数为n，便于尝试不同的n值；第二个参数为packets，即待划分的报文数据列表\n",
    "# 返回值：所有 n-grams 构成的列表\n",
    "def get_all_ngrams(n, packets):\n",
    "    num = len(packets)  # 报文数目\n",
    "    all_ngrams = []\n",
    "    for i in range(num):  # 遍历所有报文\n",
    "        message = packets[i]\n",
    "        length = len(message)  # 长度\n",
    "        repeat = length - n + 1  # 一条报文上的循环次数\n",
    "        for i in range(repeat):\n",
    "            all_ngrams.append(message[i:i+n])  # 都存入ngrams列表中\n",
    "    return all_ngrams"
   ]
  },
  {
   "cell_type": "code",
   "execution_count": 5,
   "metadata": {},
   "outputs": [],
   "source": [
    "# 定义函数，只保留频率排名靠前的一部分n-grams\n",
    "# 参数：第一个参数为 P ，代表保留频率和满足阈值的一部分n-grams；\n",
    "#       第二个参数为unique_ngrams，即所有不同的n-grams的列表(get_unique_ngrams的返回值)\n",
    "#       第三个参数为all_ngrams，即所有报文的n-grams的列表(get_all_ngrams的返回值)\n",
    "# 返回值：频率和为P的 n-grams 列表\n",
    "def get_allfreq_ngrams(P, all_ngrams):\n",
    "    # 统计n-grams总数\n",
    "    num = len(all_ngrams)\n",
    "    print(\"所有报文的n-grams总数为：\", num)\n",
    "    # 先统计每种n-gram的出现频率，记录在字典中\n",
    "    ngrams_dict = {}  # 存放各个n-gram的频率信息，无序的\n",
    "    for i in all_ngrams:  # 遍历n-grams，统计每个出现频率\n",
    "        ngrams_dict[i] = all_ngrams.count(i)/num  # key为n-gram, value为出现的频率\n",
    "    # 对频率进行由大到小排序\n",
    "    ordered = sorted(ngrams_dict.items(), key=lambda item: item[1], reverse=True)\n",
    "    # 取出频率较高的一部分一部分\n",
    "    allfreq_ngrams = []\n",
    "    i = 0  # 当前取到第几个\n",
    "    sum_p = 0  # 频率和\n",
    "    while(sum_p < P):\n",
    "        sum_p += ordered[i][1]\n",
    "        allfreq_ngrams.append(ordered[i][0])\n",
    "        i += 1\n",
    "    return allfreq_ngrams"
   ]
  },
  {
   "cell_type": "code",
   "execution_count": 6,
   "metadata": {},
   "outputs": [],
   "source": [
    "# 定义函数，由所有报文得到n-grams，此处还未做频率的统计处理\n",
    "# 参数：第一个参数为n，便于尝试不同的n值；第二个参数为packets，即待划分的报文数据列表\n",
    "# 返回值：列表套列表，大列表中每个元素是一个小列表，小列表对应一条报文的n-grams\n",
    "def get_separate_ngrams(n, packets):\n",
    "    sep_ngrams = []  # 用于存放不同报文的n-grams列表的大列表\n",
    "    num = len(packets)\n",
    "    for i in range(num):\n",
    "        message = packets[i]\n",
    "        length = len(message)\n",
    "        message_ngrams = []  # 存储该报文n-grams的小列表\n",
    "        repeat = length - n + 1  # 循环次数\n",
    "        for j in range(repeat):\n",
    "            message_ngrams.append(message[j:j+n])  # 小列表\n",
    "        sep_ngrams.append(message_ngrams)  # 大列表\n",
    "    return sep_ngrams"
   ]
  },
  {
   "cell_type": "code",
   "execution_count": 7,
   "metadata": {},
   "outputs": [],
   "source": [
    "# 定义函数，每个报文只保留频率较高的n-grams\n",
    "# 参数：第一个参数为 freq_ngrams，频数排名靠前的n-grams列表，即函数get_freq_ngrams的返回结果\n",
    "#       第二个参数为 ngrams, 各个报文n-grams列表组成的列表，即函数get_separate_ngrams的返回结果，大列表套小列表形式\n",
    "# 返回值：列表套列表，大列表中每个元素是一个小列表，小列表对应一条报文的高频n-grams\n",
    "def get_sepfreq_ngrams(allfreq_ngrams, ngrams):\n",
    "    sepfreq_ngrams = []  # 用于存放不同报文的高频n-grams列表的大列表\n",
    "    num = len(ngrams)\n",
    "    for i in range(num):  # 遍历报文\n",
    "        message = ngrams[i]\n",
    "        message_freq_ngrams = []  # 该报文高频n-grams的小列表\n",
    "        for j in range(len(message)):\n",
    "            if message[j] in allfreq_ngrams:\n",
    "                message_freq_ngrams.append(message[j])  # 小列表\n",
    "        sepfreq_ngrams.append(message_freq_ngrams)  # 大列表\n",
    "    return sepfreq_ngrams"
   ]
  },
  {
   "cell_type": "code",
   "execution_count": 8,
   "metadata": {},
   "outputs": [],
   "source": [
    "# 定义函数，将每个报文的高频n-grams保存到文件中,同一报文中n-grams空格隔开，每个报文占一行，末尾加换行符\n",
    "# 参数：写入的内容，即报文的高频n-grams列表组成的大列表\n",
    "def save_freq_file(packet_name, content):\n",
    "    \n",
    "    for i in range(1, len(content)+1):\n",
    "        # 写入文件名\n",
    "        write_file_name = packet_name + '\\\\' + str(i) + '.txt'\n",
    "        f = open(write_file_name, 'w')\n",
    "        \n",
    "        s = content[i-1]  # 减1，列表从0开始编号\n",
    "        t = '####'.join(s)\n",
    "        f.write(t)\n",
    "        \n",
    "        f.close()  # 关闭文件"
   ]
  },
  {
   "cell_type": "code",
   "execution_count": 17,
   "metadata": {},
   "outputs": [
    {
     "name": "stdout",
     "output_type": "stream",
     "text": [
      "成功读取输入文件\n",
      "成功获得所有n-grams的小列表\n",
      "所有报文的n-grams总数为： 23948\n",
      "\n",
      "保留频率和为0.200000的n-grams，共保留18个\n",
      "保留的n-grams为：\n",
      " ['1900', 'ee30', '0236', '2361', '3619', '6190', '08ee', '8ee3', 'e307', '307b', '9002', '0027', '9003', '003c', '9001', '001d', '9008', '0081']\n",
      "\n",
      "成功获得各个报文的n-grams列表\n",
      "成功获得各个报文的高频n-grams列表\n",
      "成功保存各个报文的高频n-grams到文件中\n",
      "\n",
      "该模块运行时间： 10.665493726730347 秒\n"
     ]
    }
   ],
   "source": [
    "begin_time = time.time()  # 统计程序运行时间\n",
    "\n",
    "n = 4  # 初始化取值，n-gram中 n 的取值\n",
    "P = 0.2  # 保留的频率和\n",
    "\n",
    "packets = read_input('input')  # 读取文件，得到报文列表\n",
    "print(\"成功读取输入文件\")\n",
    "\n",
    "all_ngrams = get_all_ngrams(n, packets)  # 从输入文件中获得所有n-grams的列表\n",
    "print(\"成功获得所有n-grams的小列表\")\n",
    "\n",
    "allfreq_ngrams = get_allfreq_ngrams(P, all_ngrams)  # 排序，取出频率较高的一部分n-grams\n",
    "ngrams_num = len(allfreq_ngrams)\n",
    "print(\"\\n保留频率和为%f的n-grams，共保留%d个\" % (P, ngrams_num))\n",
    "print(\"保留的n-grams为：\\n\", allfreq_ngrams)\n",
    "\n",
    "sep_ngrams = get_separate_ngrams(n, packets)  # 从输入文件中获得n-grams的大列表套小列表的形式\n",
    "print(\"\\n成功获得各个报文的n-grams列表\")\n",
    "\n",
    "sepfreq_ngrams = get_sepfreq_ngrams(allfreq_ngrams, sep_ngrams)  # 保留每条报文中的高频n-grams\n",
    "print(\"成功获得各个报文的高频n-grams列表\")\n",
    "\n",
    "save_freq_file('freq-ngrams', sepfreq_ngrams)  # 保存报文的高频n-grams\n",
    "print(\"成功保存各个报文的高频n-grams到文件中\")\n",
    "\n",
    "end_time = time.time()\n",
    "run_time = end_time - begin_time\n",
    "print ('\\n该模块运行时间：',run_time, '秒')"
   ]
  },
  {
   "cell_type": "code",
   "execution_count": null,
   "metadata": {},
   "outputs": [],
   "source": []
  }
 ],
 "metadata": {
  "kernelspec": {
   "display_name": "Python 3",
   "language": "python",
   "name": "python3"
  },
  "language_info": {
   "codemirror_mode": {
    "name": "ipython",
    "version": 3
   },
   "file_extension": ".py",
   "mimetype": "text/x-python",
   "name": "python",
   "nbconvert_exporter": "python",
   "pygments_lexer": "ipython3",
   "version": "3.6.5"
  }
 },
 "nbformat": 4,
 "nbformat_minor": 2
}
