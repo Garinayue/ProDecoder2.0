{
 "cells": [
  {
   "cell_type": "code",
   "execution_count": 4,
   "metadata": {},
   "outputs": [],
   "source": [
    "import uuid  # 用于生成十六进制\n",
    "import random"
   ]
  },
  {
   "cell_type": "code",
   "execution_count": 31,
   "metadata": {},
   "outputs": [],
   "source": [
    "# 定义函数：生成指定范围内的随机整数\n",
    "\n",
    "def get_int(low, high):\n",
    "    n = random.randint(low, high)\n",
    "    return n"
   ]
  },
  {
   "cell_type": "code",
   "execution_count": 32,
   "metadata": {},
   "outputs": [],
   "source": [
    "def get_two_bytes():\n",
    "    res = str(uuid.uuid4())  # 形如 02680d49-e91d-4ccb-a4b9-8a05c3ed86e9\n",
    "    res = res.replace('-', '')  #形如 02680d49e91d4ccba4b98a05c3ed86e9\n",
    "    res = res[:4]  # 取前4个字节\n",
    "    return res"
   ]
  },
  {
   "cell_type": "code",
   "execution_count": 60,
   "metadata": {},
   "outputs": [],
   "source": [
    "# 第一种qq报文\n",
    "\n",
    "def C29():\n",
    "    \n",
    "    num = get_int(4, 16)\n",
    "    data = ''\n",
    "    for i in range(num):\n",
    "        data += get_two_bytes()\n",
    "        \n",
    "    message = '02' + '3619' + '001d' + get_two_bytes() + '08ee307b' + data\n",
    "    return message"
   ]
  },
  {
   "cell_type": "code",
   "execution_count": 61,
   "metadata": {},
   "outputs": [],
   "source": [
    "# 第二种qq报文\n",
    "\n",
    "def C1():\n",
    "    \n",
    "    num = get_int(4, 16)\n",
    "    data = ''\n",
    "    for i in range(num):\n",
    "        data += get_two_bytes()\n",
    "        \n",
    "    message = '02' + '3619' + '0001' + get_two_bytes() + '08ee307b' + data\n",
    "    return message"
   ]
  },
  {
   "cell_type": "code",
   "execution_count": 62,
   "metadata": {},
   "outputs": [],
   "source": [
    "# 第三种qq报文\n",
    "\n",
    "def C39():\n",
    "    \n",
    "    num = get_int(4, 16)\n",
    "    data = ''\n",
    "    for i in range(num):\n",
    "        data += get_two_bytes()\n",
    "        \n",
    "    message = '02' + '3619' + '0027' + get_two_bytes() + '08ee307b' + data\n",
    "    return message"
   ]
  },
  {
   "cell_type": "code",
   "execution_count": 63,
   "metadata": {},
   "outputs": [],
   "source": [
    "# 第四种qq报文\n",
    "\n",
    "def C23():\n",
    "    \n",
    "    num = get_int(4, 16)\n",
    "    data = ''\n",
    "    for i in range(num):\n",
    "        data += get_two_bytes()\n",
    "        \n",
    "    message = '02' + '3619' + '0017' + get_two_bytes() + '08ee307b' + data\n",
    "    return message"
   ]
  },
  {
   "cell_type": "code",
   "execution_count": null,
   "metadata": {},
   "outputs": [],
   "source": []
  }
 ],
 "metadata": {
  "kernelspec": {
   "display_name": "Python 3",
   "language": "python",
   "name": "python3"
  },
  "language_info": {
   "codemirror_mode": {
    "name": "ipython",
    "version": 3
   },
   "file_extension": ".py",
   "mimetype": "text/x-python",
   "name": "python",
   "nbconvert_exporter": "python",
   "pygments_lexer": "ipython3",
   "version": "3.6.5"
  }
 },
 "nbformat": 4,
 "nbformat_minor": 2
}
